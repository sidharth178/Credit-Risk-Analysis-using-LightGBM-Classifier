{
  "nbformat": 4,
  "nbformat_minor": 0,
  "metadata": {
    "colab": {
      "name": "HACKANONS COLAB 25GB RAM.ipynb",
      "provenance": [],
      "collapsed_sections": [],
      "toc_visible": true,
      "machine_shape": "hm"
    },
    "kernelspec": {
      "name": "python3",
      "display_name": "Python 3"
    },
    "accelerator": "GPU"
  },
  "cells": [
    {
      "cell_type": "markdown",
      "metadata": {
        "id": "WrYP16czjBz6"
      },
      "source": [
        "# **1. Overview**"
      ]
    },
    {
      "cell_type": "markdown",
      "metadata": {
        "id": "nmPtZP7EjBjg"
      },
      "source": [
        "### **Context :** \r\n",
        "Banks need to protect their interest before it can take risk on you and issue credit card to you. Banks use their previous credit card holders records for understanding the patterns of the card holders. It is a lot more complex process to predict whether a person who they do not know at personal level, will be a defaulter or not. Banks, along with the data from their own records, also use CIBIL data.\r\n",
        "Based on all this data, banks want to develop a pattern that will tell them who are likely to be a defaulter and who are not.\r\n",
        "\r\n",
        "### **Attribute Information :** \r\n",
        "The dataset has 13 features with 50636 observations. The features are:\r\n",
        "\r\n",
        "Here <b>age, gender</b> are the age and gender of the card holder.<br>\r\n",
        "<b>education</b> is the last acquired educational qualification of the card holder.<br>\r\n",
        "<b>occupation</b> can be salaried, or self employed or business etc. <br>\r\n",
        "<b>organization_type</b> can be tire 1, 2, 3 etc.<br> \r\n",
        "<b>seniority</b> denotes at which career level the card holder is in.<br> \r\n",
        "<b>annual_income</b> is the gross annual income of the card holder.<br> \r\n",
        "<b>disposable_income</b> is annual income - recurring expenses.<br> \r\n",
        "<b>house_type</b> is owned or rented or company provided etc.<br> \r\n",
        "<b>vehicle_type</b> is 4-wheeler or two-wheeler or none.<br> \r\n",
        "<b>marital_status</b> is of the card holder.<br> \r\n",
        "<b>no_card</b> has the information of the number of other credit cards that the card holder already holds. <br>\r\n",
        "And at the end of each row, we have a <b>defaulter</b> indicator indicating whether the card holder was a defaulter or not. It is 1 if the card holder was a defaulter, 0 otherwise.\r\n",
        "### **Objective :**\r\n",
        "We have to use this dataset to generate a classification model that can successfully predict for a new applicant with recorded data for given parameters in the data set, if he is likely to be a defaulter."
      ]
    },
    {
      "cell_type": "markdown",
      "metadata": {
        "id": "kOL_PF6UjfhP"
      },
      "source": [
        "# **2. Import Libraries:**"
      ]
    },
    {
      "cell_type": "code",
      "metadata": {
        "id": "TqSUzglmhLps"
      },
      "source": [
        "# import necessary libraries\r\n",
        "import pandas as pd\r\n",
        "import matplotlib.pyplot as plt\r\n",
        "import numpy as np\r\n",
        "import seaborn as sns\r\n",
        "\r\n",
        "from sklearn.preprocessing import LabelEncoder\r\n",
        "from sklearn.preprocessing import StandardScaler\r\n",
        "from sklearn.model_selection import train_test_split\r\n",
        "\r\n",
        "import xgboost as xgb\r\n",
        "import lightgbm as lgb\r\n",
        "from sklearn.svm import SVC\r\n",
        "from sklearn.ensemble import BaggingClassifier\r\n",
        "from sklearn.tree import DecisionTreeClassifier\r\n",
        "from sklearn.ensemble import RandomForestClassifier, ExtraTreesClassifier\r\n",
        "from sklearn.model_selection import RandomizedSearchCV,GridSearchCV\r\n",
        "from sklearn.model_selection import KFold\r\n",
        "from datetime import datetime\r\n",
        "import warnings"
      ],
      "execution_count": 1,
      "outputs": []
    },
    {
      "cell_type": "markdown",
      "metadata": {
        "id": "-qzi4pOewgEJ"
      },
      "source": [
        "# **3. Load Dataset:**"
      ]
    },
    {
      "cell_type": "code",
      "metadata": {
        "id": "IZ35IRoNhLvr",
        "outputId": "8469b19e-3c89-4aa0-9a11-40b5d1bbea36",
        "colab": {
          "base_uri": "https://localhost:8080/",
          "height": 266
        }
      },
      "source": [
        "# Load the dataset\r\n",
        "credit_df=pd.read_csv(\"credit_data.csv\")\r\n",
        "credit_df.head()"
      ],
      "execution_count": 2,
      "outputs": [
        {
          "output_type": "execute_result",
          "data": {
            "text/html": [
              "<div>\n",
              "<style scoped>\n",
              "    .dataframe tbody tr th:only-of-type {\n",
              "        vertical-align: middle;\n",
              "    }\n",
              "\n",
              "    .dataframe tbody tr th {\n",
              "        vertical-align: top;\n",
              "    }\n",
              "\n",
              "    .dataframe thead th {\n",
              "        text-align: right;\n",
              "    }\n",
              "</style>\n",
              "<table border=\"1\" class=\"dataframe\">\n",
              "  <thead>\n",
              "    <tr style=\"text-align: right;\">\n",
              "      <th></th>\n",
              "      <th>age</th>\n",
              "      <th>gender</th>\n",
              "      <th>education</th>\n",
              "      <th>occupation</th>\n",
              "      <th>organization_type</th>\n",
              "      <th>seniority</th>\n",
              "      <th>annual_income</th>\n",
              "      <th>disposable_income</th>\n",
              "      <th>house_type</th>\n",
              "      <th>vehicle_type</th>\n",
              "      <th>marital_status</th>\n",
              "      <th>no_card</th>\n",
              "      <th>default</th>\n",
              "    </tr>\n",
              "  </thead>\n",
              "  <tbody>\n",
              "    <tr>\n",
              "      <th>0</th>\n",
              "      <td>19</td>\n",
              "      <td>Male</td>\n",
              "      <td>Graduate</td>\n",
              "      <td>Professional</td>\n",
              "      <td>None</td>\n",
              "      <td>None</td>\n",
              "      <td>186319</td>\n",
              "      <td>21625</td>\n",
              "      <td>Family</td>\n",
              "      <td>None</td>\n",
              "      <td>Married</td>\n",
              "      <td>0</td>\n",
              "      <td>1</td>\n",
              "    </tr>\n",
              "    <tr>\n",
              "      <th>1</th>\n",
              "      <td>18</td>\n",
              "      <td>Male</td>\n",
              "      <td>Under Graduate</td>\n",
              "      <td>Professional</td>\n",
              "      <td>None</td>\n",
              "      <td>None</td>\n",
              "      <td>277022</td>\n",
              "      <td>20442</td>\n",
              "      <td>Rented</td>\n",
              "      <td>None</td>\n",
              "      <td>Married</td>\n",
              "      <td>0</td>\n",
              "      <td>1</td>\n",
              "    </tr>\n",
              "    <tr>\n",
              "      <th>2</th>\n",
              "      <td>29</td>\n",
              "      <td>Male</td>\n",
              "      <td>Under Graduate</td>\n",
              "      <td>Salaried</td>\n",
              "      <td>None</td>\n",
              "      <td>Entry</td>\n",
              "      <td>348676</td>\n",
              "      <td>24404</td>\n",
              "      <td>Rented</td>\n",
              "      <td>None</td>\n",
              "      <td>Married</td>\n",
              "      <td>1</td>\n",
              "      <td>1</td>\n",
              "    </tr>\n",
              "    <tr>\n",
              "      <th>3</th>\n",
              "      <td>18</td>\n",
              "      <td>Male</td>\n",
              "      <td>Graduate</td>\n",
              "      <td>Student</td>\n",
              "      <td>None</td>\n",
              "      <td>None</td>\n",
              "      <td>165041</td>\n",
              "      <td>2533</td>\n",
              "      <td>Rented</td>\n",
              "      <td>None</td>\n",
              "      <td>Married</td>\n",
              "      <td>0</td>\n",
              "      <td>1</td>\n",
              "    </tr>\n",
              "    <tr>\n",
              "      <th>4</th>\n",
              "      <td>26</td>\n",
              "      <td>Male</td>\n",
              "      <td>Post Graduate</td>\n",
              "      <td>Salaried</td>\n",
              "      <td>None</td>\n",
              "      <td>Mid-level 1</td>\n",
              "      <td>348745</td>\n",
              "      <td>19321</td>\n",
              "      <td>Rented</td>\n",
              "      <td>None</td>\n",
              "      <td>Married</td>\n",
              "      <td>1</td>\n",
              "      <td>1</td>\n",
              "    </tr>\n",
              "  </tbody>\n",
              "</table>\n",
              "</div>"
            ],
            "text/plain": [
              "   age gender       education  ... marital_status no_card default\n",
              "0   19   Male        Graduate  ...        Married       0       1\n",
              "1   18   Male  Under Graduate  ...        Married       0       1\n",
              "2   29   Male  Under Graduate  ...        Married       1       1\n",
              "3   18   Male        Graduate  ...        Married       0       1\n",
              "4   26   Male   Post Graduate  ...        Married       1       1\n",
              "\n",
              "[5 rows x 13 columns]"
            ]
          },
          "metadata": {
            "tags": []
          },
          "execution_count": 2
        }
      ]
    },
    {
      "cell_type": "markdown",
      "metadata": {
        "id": "RBCHC0wKjwnd"
      },
      "source": [
        "# **4. Exploratory Data Analysis**"
      ]
    },
    {
      "cell_type": "code",
      "metadata": {
        "id": "WcyJJFR0hLxd",
        "outputId": "9172d2f5-4f0a-4ed2-f61d-f125d1232b32",
        "colab": {
          "base_uri": "https://localhost:8080/"
        }
      },
      "source": [
        "credit_df.shape"
      ],
      "execution_count": 3,
      "outputs": [
        {
          "output_type": "execute_result",
          "data": {
            "text/plain": [
              "(50636, 13)"
            ]
          },
          "metadata": {
            "tags": []
          },
          "execution_count": 3
        }
      ]
    },
    {
      "cell_type": "code",
      "metadata": {
        "id": "za1uSEHahL1Y",
        "outputId": "d86106cf-005f-491a-df3e-cecfc3262a6d",
        "colab": {
          "base_uri": "https://localhost:8080/"
        }
      },
      "source": [
        "credit_df.info()"
      ],
      "execution_count": 4,
      "outputs": [
        {
          "output_type": "stream",
          "text": [
            "<class 'pandas.core.frame.DataFrame'>\n",
            "RangeIndex: 50636 entries, 0 to 50635\n",
            "Data columns (total 13 columns):\n",
            " #   Column             Non-Null Count  Dtype \n",
            "---  ------             --------------  ----- \n",
            " 0   age                50636 non-null  int64 \n",
            " 1   gender             50636 non-null  object\n",
            " 2   education          50636 non-null  object\n",
            " 3   occupation         50636 non-null  object\n",
            " 4   organization_type  50636 non-null  object\n",
            " 5   seniority          50636 non-null  object\n",
            " 6   annual_income      50636 non-null  int64 \n",
            " 7   disposable_income  50636 non-null  int64 \n",
            " 8   house_type         50636 non-null  object\n",
            " 9   vehicle_type       50636 non-null  object\n",
            " 10  marital_status     50636 non-null  object\n",
            " 11  no_card            50636 non-null  int64 \n",
            " 12  default            50636 non-null  int64 \n",
            "dtypes: int64(5), object(8)\n",
            "memory usage: 5.0+ MB\n"
          ],
          "name": "stdout"
        }
      ]
    },
    {
      "cell_type": "code",
      "metadata": {
        "id": "eZO2Sgv2hL3h",
        "outputId": "9cf452f9-2895-49c1-c592-2758112ae1be",
        "colab": {
          "base_uri": "https://localhost:8080/"
        }
      },
      "source": [
        "# check for null values\r\n",
        "credit_df.isnull().sum()"
      ],
      "execution_count": 5,
      "outputs": [
        {
          "output_type": "execute_result",
          "data": {
            "text/plain": [
              "age                  0\n",
              "gender               0\n",
              "education            0\n",
              "occupation           0\n",
              "organization_type    0\n",
              "seniority            0\n",
              "annual_income        0\n",
              "disposable_income    0\n",
              "house_type           0\n",
              "vehicle_type         0\n",
              "marital_status       0\n",
              "no_card              0\n",
              "default              0\n",
              "dtype: int64"
            ]
          },
          "metadata": {
            "tags": []
          },
          "execution_count": 5
        }
      ]
    },
    {
      "cell_type": "code",
      "metadata": {
        "id": "AG-E83GZhL73",
        "outputId": "39cf3e0a-7fb6-4cff-a550-e21f1a2edc62",
        "colab": {
          "base_uri": "https://localhost:8080/",
          "height": 284
        }
      },
      "source": [
        "# see the statistical analysis of the dataset\r\n",
        "credit_df.describe()"
      ],
      "execution_count": 6,
      "outputs": [
        {
          "output_type": "execute_result",
          "data": {
            "text/html": [
              "<div>\n",
              "<style scoped>\n",
              "    .dataframe tbody tr th:only-of-type {\n",
              "        vertical-align: middle;\n",
              "    }\n",
              "\n",
              "    .dataframe tbody tr th {\n",
              "        vertical-align: top;\n",
              "    }\n",
              "\n",
              "    .dataframe thead th {\n",
              "        text-align: right;\n",
              "    }\n",
              "</style>\n",
              "<table border=\"1\" class=\"dataframe\">\n",
              "  <thead>\n",
              "    <tr style=\"text-align: right;\">\n",
              "      <th></th>\n",
              "      <th>age</th>\n",
              "      <th>annual_income</th>\n",
              "      <th>disposable_income</th>\n",
              "      <th>no_card</th>\n",
              "      <th>default</th>\n",
              "    </tr>\n",
              "  </thead>\n",
              "  <tbody>\n",
              "    <tr>\n",
              "      <th>count</th>\n",
              "      <td>50636.000000</td>\n",
              "      <td>50636.000000</td>\n",
              "      <td>50636.000000</td>\n",
              "      <td>50636.000000</td>\n",
              "      <td>50636.000000</td>\n",
              "    </tr>\n",
              "    <tr>\n",
              "      <th>mean</th>\n",
              "      <td>29.527411</td>\n",
              "      <td>277243.989889</td>\n",
              "      <td>18325.788569</td>\n",
              "      <td>0.509815</td>\n",
              "      <td>0.158425</td>\n",
              "    </tr>\n",
              "    <tr>\n",
              "      <th>std</th>\n",
              "      <td>8.816532</td>\n",
              "      <td>153838.973755</td>\n",
              "      <td>12677.864844</td>\n",
              "      <td>0.669883</td>\n",
              "      <td>0.365142</td>\n",
              "    </tr>\n",
              "    <tr>\n",
              "      <th>min</th>\n",
              "      <td>18.000000</td>\n",
              "      <td>50000.000000</td>\n",
              "      <td>1000.000000</td>\n",
              "      <td>0.000000</td>\n",
              "      <td>0.000000</td>\n",
              "    </tr>\n",
              "    <tr>\n",
              "      <th>25%</th>\n",
              "      <td>25.000000</td>\n",
              "      <td>154052.250000</td>\n",
              "      <td>8317.750000</td>\n",
              "      <td>0.000000</td>\n",
              "      <td>0.000000</td>\n",
              "    </tr>\n",
              "    <tr>\n",
              "      <th>50%</th>\n",
              "      <td>27.000000</td>\n",
              "      <td>258860.500000</td>\n",
              "      <td>15770.000000</td>\n",
              "      <td>0.000000</td>\n",
              "      <td>0.000000</td>\n",
              "    </tr>\n",
              "    <tr>\n",
              "      <th>75%</th>\n",
              "      <td>30.000000</td>\n",
              "      <td>385071.500000</td>\n",
              "      <td>24135.000000</td>\n",
              "      <td>1.000000</td>\n",
              "      <td>0.000000</td>\n",
              "    </tr>\n",
              "    <tr>\n",
              "      <th>max</th>\n",
              "      <td>64.000000</td>\n",
              "      <td>999844.000000</td>\n",
              "      <td>49999.000000</td>\n",
              "      <td>2.000000</td>\n",
              "      <td>1.000000</td>\n",
              "    </tr>\n",
              "  </tbody>\n",
              "</table>\n",
              "</div>"
            ],
            "text/plain": [
              "                age  annual_income  ...       no_card       default\n",
              "count  50636.000000   50636.000000  ...  50636.000000  50636.000000\n",
              "mean      29.527411  277243.989889  ...      0.509815      0.158425\n",
              "std        8.816532  153838.973755  ...      0.669883      0.365142\n",
              "min       18.000000   50000.000000  ...      0.000000      0.000000\n",
              "25%       25.000000  154052.250000  ...      0.000000      0.000000\n",
              "50%       27.000000  258860.500000  ...      0.000000      0.000000\n",
              "75%       30.000000  385071.500000  ...      1.000000      0.000000\n",
              "max       64.000000  999844.000000  ...      2.000000      1.000000\n",
              "\n",
              "[8 rows x 5 columns]"
            ]
          },
          "metadata": {
            "tags": []
          },
          "execution_count": 6
        }
      ]
    },
    {
      "cell_type": "code",
      "metadata": {
        "id": "vwNwZQHQhL9_",
        "outputId": "4c676267-cfcd-4ca3-c5c5-638487aa4a63",
        "colab": {
          "base_uri": "https://localhost:8080/",
          "height": 195
        }
      },
      "source": [
        "# Separate columns having categorical value\r\n",
        "obj_df=credit_df.select_dtypes(include=['object']).copy()\r\n",
        "obj_df.head()"
      ],
      "execution_count": 7,
      "outputs": [
        {
          "output_type": "execute_result",
          "data": {
            "text/html": [
              "<div>\n",
              "<style scoped>\n",
              "    .dataframe tbody tr th:only-of-type {\n",
              "        vertical-align: middle;\n",
              "    }\n",
              "\n",
              "    .dataframe tbody tr th {\n",
              "        vertical-align: top;\n",
              "    }\n",
              "\n",
              "    .dataframe thead th {\n",
              "        text-align: right;\n",
              "    }\n",
              "</style>\n",
              "<table border=\"1\" class=\"dataframe\">\n",
              "  <thead>\n",
              "    <tr style=\"text-align: right;\">\n",
              "      <th></th>\n",
              "      <th>gender</th>\n",
              "      <th>education</th>\n",
              "      <th>occupation</th>\n",
              "      <th>organization_type</th>\n",
              "      <th>seniority</th>\n",
              "      <th>house_type</th>\n",
              "      <th>vehicle_type</th>\n",
              "      <th>marital_status</th>\n",
              "    </tr>\n",
              "  </thead>\n",
              "  <tbody>\n",
              "    <tr>\n",
              "      <th>0</th>\n",
              "      <td>Male</td>\n",
              "      <td>Graduate</td>\n",
              "      <td>Professional</td>\n",
              "      <td>None</td>\n",
              "      <td>None</td>\n",
              "      <td>Family</td>\n",
              "      <td>None</td>\n",
              "      <td>Married</td>\n",
              "    </tr>\n",
              "    <tr>\n",
              "      <th>1</th>\n",
              "      <td>Male</td>\n",
              "      <td>Under Graduate</td>\n",
              "      <td>Professional</td>\n",
              "      <td>None</td>\n",
              "      <td>None</td>\n",
              "      <td>Rented</td>\n",
              "      <td>None</td>\n",
              "      <td>Married</td>\n",
              "    </tr>\n",
              "    <tr>\n",
              "      <th>2</th>\n",
              "      <td>Male</td>\n",
              "      <td>Under Graduate</td>\n",
              "      <td>Salaried</td>\n",
              "      <td>None</td>\n",
              "      <td>Entry</td>\n",
              "      <td>Rented</td>\n",
              "      <td>None</td>\n",
              "      <td>Married</td>\n",
              "    </tr>\n",
              "    <tr>\n",
              "      <th>3</th>\n",
              "      <td>Male</td>\n",
              "      <td>Graduate</td>\n",
              "      <td>Student</td>\n",
              "      <td>None</td>\n",
              "      <td>None</td>\n",
              "      <td>Rented</td>\n",
              "      <td>None</td>\n",
              "      <td>Married</td>\n",
              "    </tr>\n",
              "    <tr>\n",
              "      <th>4</th>\n",
              "      <td>Male</td>\n",
              "      <td>Post Graduate</td>\n",
              "      <td>Salaried</td>\n",
              "      <td>None</td>\n",
              "      <td>Mid-level 1</td>\n",
              "      <td>Rented</td>\n",
              "      <td>None</td>\n",
              "      <td>Married</td>\n",
              "    </tr>\n",
              "  </tbody>\n",
              "</table>\n",
              "</div>"
            ],
            "text/plain": [
              "  gender       education    occupation  ... house_type vehicle_type marital_status\n",
              "0   Male        Graduate  Professional  ...     Family         None        Married\n",
              "1   Male  Under Graduate  Professional  ...     Rented         None        Married\n",
              "2   Male  Under Graduate      Salaried  ...     Rented         None        Married\n",
              "3   Male        Graduate       Student  ...     Rented         None        Married\n",
              "4   Male   Post Graduate      Salaried  ...     Rented         None        Married\n",
              "\n",
              "[5 rows x 8 columns]"
            ]
          },
          "metadata": {
            "tags": []
          },
          "execution_count": 7
        }
      ]
    },
    {
      "cell_type": "code",
      "metadata": {
        "id": "wL2BEPf5hMCh",
        "outputId": "166c4289-0d37-40f1-e693-9ae157df93c8",
        "colab": {
          "base_uri": "https://localhost:8080/"
        }
      },
      "source": [
        "# find unique values present in \"no_card\" column\r\n",
        "credit_df['no_card'].value_counts()"
      ],
      "execution_count": 8,
      "outputs": [
        {
          "output_type": "execute_result",
          "data": {
            "text/plain": [
              "0    29855\n",
              "1    15747\n",
              "2     5034\n",
              "Name: no_card, dtype: int64"
            ]
          },
          "metadata": {
            "tags": []
          },
          "execution_count": 8
        }
      ]
    },
    {
      "cell_type": "markdown",
      "metadata": {
        "id": "jxiwFCzokDqb"
      },
      "source": [
        "Here we saw that column **'no_card'** has categorical values but the values are integer. So we'd add that column to the **obj_df** dataframe."
      ]
    },
    {
      "cell_type": "code",
      "metadata": {
        "id": "D7wetJyphMFS"
      },
      "source": [
        "# add column \"no_card\" to the dataframe \"obj_df\"\r\n",
        "obj_df['no_card']=credit_df['no_card']"
      ],
      "execution_count": 9,
      "outputs": []
    },
    {
      "cell_type": "code",
      "metadata": {
        "id": "pLHUH_bIhMJn",
        "outputId": "00cdf25e-8877-4f6f-9b32-cad48ae4ad9d",
        "colab": {
          "base_uri": "https://localhost:8080/",
          "height": 195
        }
      },
      "source": [
        "obj_df.head()"
      ],
      "execution_count": 10,
      "outputs": [
        {
          "output_type": "execute_result",
          "data": {
            "text/html": [
              "<div>\n",
              "<style scoped>\n",
              "    .dataframe tbody tr th:only-of-type {\n",
              "        vertical-align: middle;\n",
              "    }\n",
              "\n",
              "    .dataframe tbody tr th {\n",
              "        vertical-align: top;\n",
              "    }\n",
              "\n",
              "    .dataframe thead th {\n",
              "        text-align: right;\n",
              "    }\n",
              "</style>\n",
              "<table border=\"1\" class=\"dataframe\">\n",
              "  <thead>\n",
              "    <tr style=\"text-align: right;\">\n",
              "      <th></th>\n",
              "      <th>gender</th>\n",
              "      <th>education</th>\n",
              "      <th>occupation</th>\n",
              "      <th>organization_type</th>\n",
              "      <th>seniority</th>\n",
              "      <th>house_type</th>\n",
              "      <th>vehicle_type</th>\n",
              "      <th>marital_status</th>\n",
              "      <th>no_card</th>\n",
              "    </tr>\n",
              "  </thead>\n",
              "  <tbody>\n",
              "    <tr>\n",
              "      <th>0</th>\n",
              "      <td>Male</td>\n",
              "      <td>Graduate</td>\n",
              "      <td>Professional</td>\n",
              "      <td>None</td>\n",
              "      <td>None</td>\n",
              "      <td>Family</td>\n",
              "      <td>None</td>\n",
              "      <td>Married</td>\n",
              "      <td>0</td>\n",
              "    </tr>\n",
              "    <tr>\n",
              "      <th>1</th>\n",
              "      <td>Male</td>\n",
              "      <td>Under Graduate</td>\n",
              "      <td>Professional</td>\n",
              "      <td>None</td>\n",
              "      <td>None</td>\n",
              "      <td>Rented</td>\n",
              "      <td>None</td>\n",
              "      <td>Married</td>\n",
              "      <td>0</td>\n",
              "    </tr>\n",
              "    <tr>\n",
              "      <th>2</th>\n",
              "      <td>Male</td>\n",
              "      <td>Under Graduate</td>\n",
              "      <td>Salaried</td>\n",
              "      <td>None</td>\n",
              "      <td>Entry</td>\n",
              "      <td>Rented</td>\n",
              "      <td>None</td>\n",
              "      <td>Married</td>\n",
              "      <td>1</td>\n",
              "    </tr>\n",
              "    <tr>\n",
              "      <th>3</th>\n",
              "      <td>Male</td>\n",
              "      <td>Graduate</td>\n",
              "      <td>Student</td>\n",
              "      <td>None</td>\n",
              "      <td>None</td>\n",
              "      <td>Rented</td>\n",
              "      <td>None</td>\n",
              "      <td>Married</td>\n",
              "      <td>0</td>\n",
              "    </tr>\n",
              "    <tr>\n",
              "      <th>4</th>\n",
              "      <td>Male</td>\n",
              "      <td>Post Graduate</td>\n",
              "      <td>Salaried</td>\n",
              "      <td>None</td>\n",
              "      <td>Mid-level 1</td>\n",
              "      <td>Rented</td>\n",
              "      <td>None</td>\n",
              "      <td>Married</td>\n",
              "      <td>1</td>\n",
              "    </tr>\n",
              "  </tbody>\n",
              "</table>\n",
              "</div>"
            ],
            "text/plain": [
              "  gender       education    occupation  ... vehicle_type marital_status no_card\n",
              "0   Male        Graduate  Professional  ...         None        Married       0\n",
              "1   Male  Under Graduate  Professional  ...         None        Married       0\n",
              "2   Male  Under Graduate      Salaried  ...         None        Married       1\n",
              "3   Male        Graduate       Student  ...         None        Married       0\n",
              "4   Male   Post Graduate      Salaried  ...         None        Married       1\n",
              "\n",
              "[5 rows x 9 columns]"
            ]
          },
          "metadata": {
            "tags": []
          },
          "execution_count": 10
        }
      ]
    },
    {
      "cell_type": "code",
      "metadata": {
        "id": "rWp6VsexhML_",
        "outputId": "61be435f-5de9-49d9-c97d-e8b139b11233",
        "colab": {
          "base_uri": "https://localhost:8080/"
        }
      },
      "source": [
        "obj_df.columns"
      ],
      "execution_count": 11,
      "outputs": [
        {
          "output_type": "execute_result",
          "data": {
            "text/plain": [
              "Index(['gender', 'education', 'occupation', 'organization_type', 'seniority',\n",
              "       'house_type', 'vehicle_type', 'marital_status', 'no_card'],\n",
              "      dtype='object')"
            ]
          },
          "metadata": {
            "tags": []
          },
          "execution_count": 11
        }
      ]
    },
    {
      "cell_type": "code",
      "metadata": {
        "id": "fZDjqr7KhMPc",
        "outputId": "46c4be86-ccc0-4986-b01c-45b79aff5e34",
        "colab": {
          "base_uri": "https://localhost:8080/"
        }
      },
      "source": [
        "# Find number of unique value present in all columns\r\n",
        "obj_df.nunique()"
      ],
      "execution_count": 12,
      "outputs": [
        {
          "output_type": "execute_result",
          "data": {
            "text/plain": [
              "gender               2\n",
              "education            4\n",
              "occupation           4\n",
              "organization_type    4\n",
              "seniority            6\n",
              "house_type           4\n",
              "vehicle_type         3\n",
              "marital_status       3\n",
              "no_card              3\n",
              "dtype: int64"
            ]
          },
          "metadata": {
            "tags": []
          },
          "execution_count": 12
        }
      ]
    },
    {
      "cell_type": "code",
      "metadata": {
        "id": "43v99isRkSdx",
        "outputId": "f9d97511-c8f1-4b56-8774-e96a2114ca3b",
        "colab": {
          "base_uri": "https://localhost:8080/"
        }
      },
      "source": [
        "def find_unique(col):\r\n",
        "  print(col,\":\",obj_df[col].unique())\r\n",
        "for col in obj_df.columns:\r\n",
        "  find_unique(col)"
      ],
      "execution_count": 13,
      "outputs": [
        {
          "output_type": "stream",
          "text": [
            "gender : ['Male' 'Female']\n",
            "education : ['Graduate' 'Under Graduate' 'Post Graduate' 'Other']\n",
            "occupation : ['Professional' 'Salaried' 'Student' 'Business']\n",
            "organization_type : ['None' 'Tier 3' 'Tier 2' 'Tier 1']\n",
            "seniority : ['None' 'Entry' 'Mid-level 1' 'Junior' 'Mid-level 2' 'Senior']\n",
            "house_type : ['Family' 'Rented' 'Company provided' 'Owned']\n",
            "vehicle_type : ['None' 'Two Wheeler' 'Four Wheeler']\n",
            "marital_status : ['Married' 'Single' 'Other']\n",
            "no_card : [0 1 2]\n"
          ],
          "name": "stdout"
        }
      ]
    },
    {
      "cell_type": "markdown",
      "metadata": {
        "id": "rFmGelDqkVua"
      },
      "source": [
        "# **5. Data Visualization**"
      ]
    },
    {
      "cell_type": "markdown",
      "metadata": {
        "id": "ybYYrsZqkhPO"
      },
      "source": [
        "**Frequency distribution of columns having categorical values**"
      ]
    },
    {
      "cell_type": "code",
      "metadata": {
        "id": "T8pmKxqGkSi4"
      },
      "source": [
        "def plot_bar_graph(column_name):\r\n",
        "    ed_count = column_name.value_counts()\r\n",
        "    sns.set(style=\"darkgrid\")\r\n",
        "    sns.barplot(ed_count.index, ed_count.values, alpha=0.9)\r\n",
        "    plt.title('Frequency Distribution of {} Levels using Bar Plot'.format(column_name.name))\r\n",
        "    plt.ylabel('Number of Occurrences', fontsize=12)\r\n",
        "    plt.xlabel('{}'.format(column_name.name), fontsize=12)\r\n",
        "    plt.show() \r\n",
        "    "
      ],
      "execution_count": 14,
      "outputs": []
    },
    {
      "cell_type": "code",
      "metadata": {
        "id": "dTSfmuYXkSlO",
        "outputId": "b76b9d77-ebba-49da-f0e8-846fb6ca475a",
        "colab": {
          "base_uri": "https://localhost:8080/",
          "height": 1000
        }
      },
      "source": [
        "for i in obj_df.columns:\r\n",
        "  plot_bar_graph(obj_df[i])"
      ],
      "execution_count": 15,
      "outputs": [
        {
          "output_type": "stream",
          "text": [
            "/usr/local/lib/python3.7/dist-packages/seaborn/_decorators.py:43: FutureWarning: Pass the following variables as keyword args: x, y. From version 0.12, the only valid positional argument will be `data`, and passing other arguments without an explicit keyword will result in an error or misinterpretation.\n",
            "  FutureWarning\n"
          ],
          "name": "stderr"
        },
        {
          "output_type": "display_data",
          "data": {
            "image/png": "[encoded data removed]",
            "text/plain": [
              "<Figure size 432x288 with 1 Axes>"
            ]
          },
          "metadata": {
            "tags": []
          }
        },
        {
          "output_type": "stream",
          "text": [
            "/usr/local/lib/python3.7/dist-packages/seaborn/_decorators.py:43: FutureWarning: Pass the following variables as keyword args: x, y. From version 0.12, the only valid positional argument will be `data`, and passing other arguments without an explicit keyword will result in an error or misinterpretation.\n",
            "  FutureWarning\n"
          ],
          "name": "stderr"
        },
        {
          "output_type": "display_data",
          "data": {
            "image/png": "[encoded data removed]",
            "text/plain": [
              "<Figure size 432x288 with 1 Axes>"
            ]
          },
          "metadata": {
            "tags": []
          }
        },
        {
          "output_type": "stream",
          "text": [
            "/usr/local/lib/python3.7/dist-packages/seaborn/_decorators.py:43: FutureWarning: Pass the following variables as keyword args: x, y. From version 0.12, the only valid positional argument will be `data`, and passing other arguments without an explicit keyword will result in an error or misinterpretation.\n",
            "  FutureWarning\n"
          ],
          "name": "stderr"
        },
        {
          "output_type": "display_data",
          "data": {
            "image/png": "[encoded data removed]",
            "text/plain": [
              "<Figure size 432x288 with 1 Axes>"
            ]
          },
          "metadata": {
            "tags": []
          }
        },
        {
          "output_type": "stream",
          "text": [
            "/usr/local/lib/python3.7/dist-packages/seaborn/_decorators.py:43: FutureWarning: Pass the following variables as keyword args: x, y. From version 0.12, the only valid positional argument will be `data`, and passing other arguments without an explicit keyword will result in an error or misinterpretation.\n",
            "  FutureWarning\n"
          ],
          "name": "stderr"
        },
        {
          "output_type": "display_data",
          "data": {
            "image/png": "[encoded data removed]",
            "text/plain": [
              "<Figure size 432x288 with 1 Axes>"
            ]
          },
          "metadata": {
            "tags": []
          }
        },
        {
          "output_type": "stream",
          "text": [
            "/usr/local/lib/python3.7/dist-packages/seaborn/_decorators.py:43: FutureWarning: Pass the following variables as keyword args: x, y. From version 0.12, the only valid positional argument will be `data`, and passing other arguments without an explicit keyword will result in an error or misinterpretation.\n",
            "  FutureWarning\n"
          ],
          "name": "stderr"
        },
        {
          "output_type": "display_data",
          "data": {
            "image/png": "[encoded data removed]",
            "text/plain": [
              "<Figure size 432x288 with 1 Axes>"
            ]
          },
          "metadata": {
            "tags": []
          }
        },
        {
          "output_type": "stream",
          "text": [
            "/usr/local/lib/python3.7/dist-packages/seaborn/_decorators.py:43: FutureWarning: Pass the following variables as keyword args: x, y. From version 0.12, the only valid positional argument will be `data`, and passing other arguments without an explicit keyword will result in an error or misinterpretation.\n",
            "  FutureWarning\n"
          ],
          "name": "stderr"
        },
        {
          "output_type": "display_data",
          "data": {
            "image/png": "[encoded data removed]",
            "text/plain": [
              "<Figure size 432x288 with 1 Axes>"
            ]
          },
          "metadata": {
            "tags": []
          }
        },
        {
          "output_type": "stream",
          "text": [
            "/usr/local/lib/python3.7/dist-packages/seaborn/_decorators.py:43: FutureWarning: Pass the following variables as keyword args: x, y. From version 0.12, the only valid positional argument will be `data`, and passing other arguments without an explicit keyword will result in an error or misinterpretation.\n",
            "  FutureWarning\n"
          ],
          "name": "stderr"
        },
        {
          "output_type": "display_data",
          "data": {
            "image/png": "[encoded data removed]",
            "text/plain": [
              "<Figure size 432x288 with 1 Axes>"
            ]
          },
          "metadata": {
            "tags": []
          }
        },
        {
          "output_type": "stream",
          "text": [
            "/usr/local/lib/python3.7/dist-packages/seaborn/_decorators.py:43: FutureWarning: Pass the following variables as keyword args: x, y. From version 0.12, the only valid positional argument will be `data`, and passing other arguments without an explicit keyword will result in an error or misinterpretation.\n",
            "  FutureWarning\n"
          ],
          "name": "stderr"
        },
        {
          "output_type": "display_data",
          "data": {
            "image/png": "[encoded data removed]",
            "text/plain": [
              "<Figure size 432x288 with 1 Axes>"
            ]
          },
          "metadata": {
            "tags": []
          }
        },
        {
          "output_type": "stream",
          "text": [
            "/usr/local/lib/python3.7/dist-packages/seaborn/_decorators.py:43: FutureWarning: Pass the following variables as keyword args: x, y. From version 0.12, the only valid positional argument will be `data`, and passing other arguments without an explicit keyword will result in an error or misinterpretation.\n",
            "  FutureWarning\n"
          ],
          "name": "stderr"
        },
        {
          "output_type": "display_data",
          "data": {
            "image/png": "[encoded data removed]",
            "text/plain": [
              "<Figure size 432x288 with 1 Axes>"
            ]
          },
          "metadata": {
            "tags": []
          }
        }
      ]
    },
    {
      "cell_type": "code",
      "metadata": {
        "id": "9RGu949EkSpY",
        "outputId": "ab4604f8-cc01-429a-da19-558e0d290fc0",
        "colab": {
          "base_uri": "https://localhost:8080/",
          "height": 195
        }
      },
      "source": [
        "numeric_df=credit_df.select_dtypes(include=['int64']).copy()\r\n",
        "numeric_df.drop(columns=['no_card','default'],axis=1,inplace=True)\r\n",
        "numeric_df.head()"
      ],
      "execution_count": 16,
      "outputs": [
        {
          "output_type": "execute_result",
          "data": {
            "text/html": [
              "<div>\n",
              "<style scoped>\n",
              "    .dataframe tbody tr th:only-of-type {\n",
              "        vertical-align: middle;\n",
              "    }\n",
              "\n",
              "    .dataframe tbody tr th {\n",
              "        vertical-align: top;\n",
              "    }\n",
              "\n",
              "    .dataframe thead th {\n",
              "        text-align: right;\n",
              "    }\n",
              "</style>\n",
              "<table border=\"1\" class=\"dataframe\">\n",
              "  <thead>\n",
              "    <tr style=\"text-align: right;\">\n",
              "      <th></th>\n",
              "      <th>age</th>\n",
              "      <th>annual_income</th>\n",
              "      <th>disposable_income</th>\n",
              "    </tr>\n",
              "  </thead>\n",
              "  <tbody>\n",
              "    <tr>\n",
              "      <th>0</th>\n",
              "      <td>19</td>\n",
              "      <td>186319</td>\n",
              "      <td>21625</td>\n",
              "    </tr>\n",
              "    <tr>\n",
              "      <th>1</th>\n",
              "      <td>18</td>\n",
              "      <td>277022</td>\n",
              "      <td>20442</td>\n",
              "    </tr>\n",
              "    <tr>\n",
              "      <th>2</th>\n",
              "      <td>29</td>\n",
              "      <td>348676</td>\n",
              "      <td>24404</td>\n",
              "    </tr>\n",
              "    <tr>\n",
              "      <th>3</th>\n",
              "      <td>18</td>\n",
              "      <td>165041</td>\n",
              "      <td>2533</td>\n",
              "    </tr>\n",
              "    <tr>\n",
              "      <th>4</th>\n",
              "      <td>26</td>\n",
              "      <td>348745</td>\n",
              "      <td>19321</td>\n",
              "    </tr>\n",
              "  </tbody>\n",
              "</table>\n",
              "</div>"
            ],
            "text/plain": [
              "   age  annual_income  disposable_income\n",
              "0   19         186319              21625\n",
              "1   18         277022              20442\n",
              "2   29         348676              24404\n",
              "3   18         165041               2533\n",
              "4   26         348745              19321"
            ]
          },
          "metadata": {
            "tags": []
          },
          "execution_count": 16
        }
      ]
    },
    {
      "cell_type": "code",
      "metadata": {
        "id": "UUg8X98LkSr-",
        "outputId": "0a392925-7358-447d-a5a5-af4d92777241",
        "colab": {
          "base_uri": "https://localhost:8080/",
          "height": 990
        }
      },
      "source": [
        "def distplot_graph(column_name):\r\n",
        "    sns.set(style=\"darkgrid\")\r\n",
        "    sns.distplot(numeric_df[column_name], color=\"g\")\r\n",
        "    plt.title('Normal Distribution of {} Levels using Bar Plot'.format(column_name))    \r\n",
        "    plt.xlabel('{}'.format(column_name), fontsize=12)\r\n",
        "    plt.show() \r\n",
        "    \r\n",
        "for col in numeric_df.columns:\r\n",
        "  distplot_graph(col)"
      ],
      "execution_count": 17,
      "outputs": [
        {
          "output_type": "stream",
          "text": [
            "/usr/local/lib/python3.7/dist-packages/seaborn/distributions.py:2557: FutureWarning: `distplot` is a deprecated function and will be removed in a future version. Please adapt your code to use either `displot` (a figure-level function with similar flexibility) or `histplot` (an axes-level function for histograms).\n",
            "  warnings.warn(msg, FutureWarning)\n"
          ],
          "name": "stderr"
        },
        {
          "output_type": "display_data",
          "data": {
            "image/png": "[encoded data removed]",
            "text/plain": [
              "<Figure size 432x288 with 1 Axes>"
            ]
          },
          "metadata": {
            "tags": []
          }
        },
        {
          "output_type": "stream",
          "text": [
            "/usr/local/lib/python3.7/dist-packages/seaborn/distributions.py:2557: FutureWarning: `distplot` is a deprecated function and will be removed in a future version. Please adapt your code to use either `displot` (a figure-level function with similar flexibility) or `histplot` (an axes-level function for histograms).\n",
            "  warnings.warn(msg, FutureWarning)\n"
          ],
          "name": "stderr"
        },
        {
          "output_type": "display_data",
          "data": {
            "image/png": "[encoded data removed]",
            "text/plain": [
              "<Figure size 432x288 with 1 Axes>"
            ]
          },
          "metadata": {
            "tags": []
          }
        },
        {
          "output_type": "stream",
          "text": [
            "/usr/local/lib/python3.7/dist-packages/seaborn/distributions.py:2557: FutureWarning: `distplot` is a deprecated function and will be removed in a future version. Please adapt your code to use either `displot` (a figure-level function with similar flexibility) or `histplot` (an axes-level function for histograms).\n",
            "  warnings.warn(msg, FutureWarning)\n"
          ],
          "name": "stderr"
        },
        {
          "output_type": "display_data",
          "data": {
            "image/png": "[encoded data removed]",
            "text/plain": [
              "<Figure size 432x288 with 1 Axes>"
            ]
          },
          "metadata": {
            "tags": []
          }
        }
      ]
    },
    {
      "cell_type": "markdown",
      "metadata": {
        "id": "TvKu-QLBkuk5"
      },
      "source": [
        "# **6. Data Preprocessing**"
      ]
    },
    {
      "cell_type": "code",
      "metadata": {
        "id": "JHbeHDF5kSvY",
        "outputId": "c6d1768f-9181-42a8-df6a-4ac2b7a2db34",
        "colab": {
          "base_uri": "https://localhost:8080/",
          "height": 215
        }
      },
      "source": [
        "# encode the categorical values into numeric values\r\n",
        "le=LabelEncoder()\r\n",
        "for col in obj_df.columns:\r\n",
        "    credit_df[col]=le.fit_transform(credit_df[col])\r\n",
        "credit_df.head()"
      ],
      "execution_count": 18,
      "outputs": [
        {
          "output_type": "execute_result",
          "data": {
            "text/html": [
              "<div>\n",
              "<style scoped>\n",
              "    .dataframe tbody tr th:only-of-type {\n",
              "        vertical-align: middle;\n",
              "    }\n",
              "\n",
              "    .dataframe tbody tr th {\n",
              "        vertical-align: top;\n",
              "    }\n",
              "\n",
              "    .dataframe thead th {\n",
              "        text-align: right;\n",
              "    }\n",
              "</style>\n",
              "<table border=\"1\" class=\"dataframe\">\n",
              "  <thead>\n",
              "    <tr style=\"text-align: right;\">\n",
              "      <th></th>\n",
              "      <th>age</th>\n",
              "      <th>gender</th>\n",
              "      <th>education</th>\n",
              "      <th>occupation</th>\n",
              "      <th>organization_type</th>\n",
              "      <th>seniority</th>\n",
              "      <th>annual_income</th>\n",
              "      <th>disposable_income</th>\n",
              "      <th>house_type</th>\n",
              "      <th>vehicle_type</th>\n",
              "      <th>marital_status</th>\n",
              "      <th>no_card</th>\n",
              "      <th>default</th>\n",
              "    </tr>\n",
              "  </thead>\n",
              "  <tbody>\n",
              "    <tr>\n",
              "      <th>0</th>\n",
              "      <td>19</td>\n",
              "      <td>1</td>\n",
              "      <td>0</td>\n",
              "      <td>1</td>\n",
              "      <td>0</td>\n",
              "      <td>4</td>\n",
              "      <td>186319</td>\n",
              "      <td>21625</td>\n",
              "      <td>1</td>\n",
              "      <td>1</td>\n",
              "      <td>0</td>\n",
              "      <td>0</td>\n",
              "      <td>1</td>\n",
              "    </tr>\n",
              "    <tr>\n",
              "      <th>1</th>\n",
              "      <td>18</td>\n",
              "      <td>1</td>\n",
              "      <td>3</td>\n",
              "      <td>1</td>\n",
              "      <td>0</td>\n",
              "      <td>4</td>\n",
              "      <td>277022</td>\n",
              "      <td>20442</td>\n",
              "      <td>3</td>\n",
              "      <td>1</td>\n",
              "      <td>0</td>\n",
              "      <td>0</td>\n",
              "      <td>1</td>\n",
              "    </tr>\n",
              "    <tr>\n",
              "      <th>2</th>\n",
              "      <td>29</td>\n",
              "      <td>1</td>\n",
              "      <td>3</td>\n",
              "      <td>2</td>\n",
              "      <td>0</td>\n",
              "      <td>0</td>\n",
              "      <td>348676</td>\n",
              "      <td>24404</td>\n",
              "      <td>3</td>\n",
              "      <td>1</td>\n",
              "      <td>0</td>\n",
              "      <td>1</td>\n",
              "      <td>1</td>\n",
              "    </tr>\n",
              "    <tr>\n",
              "      <th>3</th>\n",
              "      <td>18</td>\n",
              "      <td>1</td>\n",
              "      <td>0</td>\n",
              "      <td>3</td>\n",
              "      <td>0</td>\n",
              "      <td>4</td>\n",
              "      <td>165041</td>\n",
              "      <td>2533</td>\n",
              "      <td>3</td>\n",
              "      <td>1</td>\n",
              "      <td>0</td>\n",
              "      <td>0</td>\n",
              "      <td>1</td>\n",
              "    </tr>\n",
              "    <tr>\n",
              "      <th>4</th>\n",
              "      <td>26</td>\n",
              "      <td>1</td>\n",
              "      <td>2</td>\n",
              "      <td>2</td>\n",
              "      <td>0</td>\n",
              "      <td>2</td>\n",
              "      <td>348745</td>\n",
              "      <td>19321</td>\n",
              "      <td>3</td>\n",
              "      <td>1</td>\n",
              "      <td>0</td>\n",
              "      <td>1</td>\n",
              "      <td>1</td>\n",
              "    </tr>\n",
              "  </tbody>\n",
              "</table>\n",
              "</div>"
            ],
            "text/plain": [
              "   age  gender  education  ...  marital_status  no_card  default\n",
              "0   19       1          0  ...               0        0        1\n",
              "1   18       1          3  ...               0        0        1\n",
              "2   29       1          3  ...               0        1        1\n",
              "3   18       1          0  ...               0        0        1\n",
              "4   26       1          2  ...               0        1        1\n",
              "\n",
              "[5 rows x 13 columns]"
            ]
          },
          "metadata": {
            "tags": []
          },
          "execution_count": 18
        }
      ]
    },
    {
      "cell_type": "markdown",
      "metadata": {
        "id": "hldL1wd1kzoQ"
      },
      "source": [
        "### **6.1. Outlier Detection**"
      ]
    },
    {
      "cell_type": "code",
      "metadata": {
        "id": "tAb77yZ9fzMG",
        "colab": {
          "base_uri": "https://localhost:8080/"
        },
        "outputId": "78f1b9fd-79e3-448c-9ffa-4df430ce8953"
      },
      "source": [
        "# find outlier in all columns\r\n",
        "for i in credit_df.select_dtypes(include=['float64','int64']).columns:\r\n",
        "  max_thresold=credit_df[i].quantile(0.95)\r\n",
        "  min_thresold=credit_df[i].quantile(0.05)\r\n",
        "  credit_df_no_outlier=credit_df[(credit_df[i] < max_thresold) & (credit_df[i] > min_thresold)].shape\r\n",
        "  print(\" outlier in \",i,\"is\" ,int(((credit_df.shape[0]-credit_df_no_outlier[0])/credit_df.shape[0])*100),\"%\")"
      ],
      "execution_count": 19,
      "outputs": [
        {
          "output_type": "stream",
          "text": [
            " outlier in  age is 10 %\n",
            " outlier in  gender is 100 %\n",
            " outlier in  education is 60 %\n",
            " outlier in  occupation is 25 %\n",
            " outlier in  organization_type is 88 %\n",
            " outlier in  seniority is 53 %\n",
            " outlier in  annual_income is 10 %\n",
            " outlier in  disposable_income is 10 %\n",
            " outlier in  house_type is 67 %\n",
            " outlier in  vehicle_type is 100 %\n",
            " outlier in  marital_status is 95 %\n",
            " outlier in  no_card is 68 %\n",
            " outlier in  default is 100 %\n"
          ],
          "name": "stdout"
        }
      ]
    },
    {
      "cell_type": "code",
      "metadata": {
        "id": "pafL7Li0jyXW"
      },
      "source": [
        "# remove outliers from columns having nearly 10% outlier\r\n",
        "max_thresold_annual_income=credit_df[\"annual_income\"].quantile(0.95)\r\n",
        "min_thresold_annual_income=credit_df[\"annual_income\"].quantile(0.05)\r\n",
        "max_thresold_disposable_income=credit_df[\"disposable_income\"].quantile(0.95)\r\n",
        "min_thresold_disposable_income=credit_df[\"disposable_income\"].quantile(0.05)\r\n",
        "credit_df_no_outlier=credit_df[(credit_df[\"annual_income\"] < max_thresold_annual_income) & (credit_df[\"annual_income\"] > min_thresold_annual_income) &  (credit_df[\"disposable_income\"] < max_thresold_disposable_income) & (credit_df[\"disposable_income\"] > min_thresold_disposable_income)]\r\n"
      ],
      "execution_count": 20,
      "outputs": []
    },
    {
      "cell_type": "code",
      "metadata": {
        "id": "LyTC0FVqk9MJ",
        "outputId": "f4a3220f-57c8-4bdf-ba02-72ae6b5319bc",
        "colab": {
          "base_uri": "https://localhost:8080/",
          "height": 215
        }
      },
      "source": [
        "credit_df_no_outlier.head()"
      ],
      "execution_count": 21,
      "outputs": [
        {
          "output_type": "execute_result",
          "data": {
            "text/html": [
              "<div>\n",
              "<style scoped>\n",
              "    .dataframe tbody tr th:only-of-type {\n",
              "        vertical-align: middle;\n",
              "    }\n",
              "\n",
              "    .dataframe tbody tr th {\n",
              "        vertical-align: top;\n",
              "    }\n",
              "\n",
              "    .dataframe thead th {\n",
              "        text-align: right;\n",
              "    }\n",
              "</style>\n",
              "<table border=\"1\" class=\"dataframe\">\n",
              "  <thead>\n",
              "    <tr style=\"text-align: right;\">\n",
              "      <th></th>\n",
              "      <th>age</th>\n",
              "      <th>gender</th>\n",
              "      <th>education</th>\n",
              "      <th>occupation</th>\n",
              "      <th>organization_type</th>\n",
              "      <th>seniority</th>\n",
              "      <th>annual_income</th>\n",
              "      <th>disposable_income</th>\n",
              "      <th>house_type</th>\n",
              "      <th>vehicle_type</th>\n",
              "      <th>marital_status</th>\n",
              "      <th>no_card</th>\n",
              "      <th>default</th>\n",
              "    </tr>\n",
              "  </thead>\n",
              "  <tbody>\n",
              "    <tr>\n",
              "      <th>0</th>\n",
              "      <td>19</td>\n",
              "      <td>1</td>\n",
              "      <td>0</td>\n",
              "      <td>1</td>\n",
              "      <td>0</td>\n",
              "      <td>4</td>\n",
              "      <td>186319</td>\n",
              "      <td>21625</td>\n",
              "      <td>1</td>\n",
              "      <td>1</td>\n",
              "      <td>0</td>\n",
              "      <td>0</td>\n",
              "      <td>1</td>\n",
              "    </tr>\n",
              "    <tr>\n",
              "      <th>1</th>\n",
              "      <td>18</td>\n",
              "      <td>1</td>\n",
              "      <td>3</td>\n",
              "      <td>1</td>\n",
              "      <td>0</td>\n",
              "      <td>4</td>\n",
              "      <td>277022</td>\n",
              "      <td>20442</td>\n",
              "      <td>3</td>\n",
              "      <td>1</td>\n",
              "      <td>0</td>\n",
              "      <td>0</td>\n",
              "      <td>1</td>\n",
              "    </tr>\n",
              "    <tr>\n",
              "      <th>2</th>\n",
              "      <td>29</td>\n",
              "      <td>1</td>\n",
              "      <td>3</td>\n",
              "      <td>2</td>\n",
              "      <td>0</td>\n",
              "      <td>0</td>\n",
              "      <td>348676</td>\n",
              "      <td>24404</td>\n",
              "      <td>3</td>\n",
              "      <td>1</td>\n",
              "      <td>0</td>\n",
              "      <td>1</td>\n",
              "      <td>1</td>\n",
              "    </tr>\n",
              "    <tr>\n",
              "      <th>3</th>\n",
              "      <td>18</td>\n",
              "      <td>1</td>\n",
              "      <td>0</td>\n",
              "      <td>3</td>\n",
              "      <td>0</td>\n",
              "      <td>4</td>\n",
              "      <td>165041</td>\n",
              "      <td>2533</td>\n",
              "      <td>3</td>\n",
              "      <td>1</td>\n",
              "      <td>0</td>\n",
              "      <td>0</td>\n",
              "      <td>1</td>\n",
              "    </tr>\n",
              "    <tr>\n",
              "      <th>4</th>\n",
              "      <td>26</td>\n",
              "      <td>1</td>\n",
              "      <td>2</td>\n",
              "      <td>2</td>\n",
              "      <td>0</td>\n",
              "      <td>2</td>\n",
              "      <td>348745</td>\n",
              "      <td>19321</td>\n",
              "      <td>3</td>\n",
              "      <td>1</td>\n",
              "      <td>0</td>\n",
              "      <td>1</td>\n",
              "      <td>1</td>\n",
              "    </tr>\n",
              "  </tbody>\n",
              "</table>\n",
              "</div>"
            ],
            "text/plain": [
              "   age  gender  education  ...  marital_status  no_card  default\n",
              "0   19       1          0  ...               0        0        1\n",
              "1   18       1          3  ...               0        0        1\n",
              "2   29       1          3  ...               0        1        1\n",
              "3   18       1          0  ...               0        0        1\n",
              "4   26       1          2  ...               0        1        1\n",
              "\n",
              "[5 rows x 13 columns]"
            ]
          },
          "metadata": {
            "tags": []
          },
          "execution_count": 21
        }
      ]
    },
    {
      "cell_type": "code",
      "metadata": {
        "id": "Nlv4-F9Vk9OO",
        "outputId": "1a5db247-2657-4a65-a69a-3617990e65a1",
        "colab": {
          "base_uri": "https://localhost:8080/",
          "height": 215
        }
      },
      "source": [
        "credit_df_no_outlier.reset_index(inplace=True)\r\n",
        "credit_df_no_outlier.head()"
      ],
      "execution_count": 22,
      "outputs": [
        {
          "output_type": "execute_result",
          "data": {
            "text/html": [
              "<div>\n",
              "<style scoped>\n",
              "    .dataframe tbody tr th:only-of-type {\n",
              "        vertical-align: middle;\n",
              "    }\n",
              "\n",
              "    .dataframe tbody tr th {\n",
              "        vertical-align: top;\n",
              "    }\n",
              "\n",
              "    .dataframe thead th {\n",
              "        text-align: right;\n",
              "    }\n",
              "</style>\n",
              "<table border=\"1\" class=\"dataframe\">\n",
              "  <thead>\n",
              "    <tr style=\"text-align: right;\">\n",
              "      <th></th>\n",
              "      <th>index</th>\n",
              "      <th>age</th>\n",
              "      <th>gender</th>\n",
              "      <th>education</th>\n",
              "      <th>occupation</th>\n",
              "      <th>organization_type</th>\n",
              "      <th>seniority</th>\n",
              "      <th>annual_income</th>\n",
              "      <th>disposable_income</th>\n",
              "      <th>house_type</th>\n",
              "      <th>vehicle_type</th>\n",
              "      <th>marital_status</th>\n",
              "      <th>no_card</th>\n",
              "      <th>default</th>\n",
              "    </tr>\n",
              "  </thead>\n",
              "  <tbody>\n",
              "    <tr>\n",
              "      <th>0</th>\n",
              "      <td>0</td>\n",
              "      <td>19</td>\n",
              "      <td>1</td>\n",
              "      <td>0</td>\n",
              "      <td>1</td>\n",
              "      <td>0</td>\n",
              "      <td>4</td>\n",
              "      <td>186319</td>\n",
              "      <td>21625</td>\n",
              "      <td>1</td>\n",
              "      <td>1</td>\n",
              "      <td>0</td>\n",
              "      <td>0</td>\n",
              "      <td>1</td>\n",
              "    </tr>\n",
              "    <tr>\n",
              "      <th>1</th>\n",
              "      <td>1</td>\n",
              "      <td>18</td>\n",
              "      <td>1</td>\n",
              "      <td>3</td>\n",
              "      <td>1</td>\n",
              "      <td>0</td>\n",
              "      <td>4</td>\n",
              "      <td>277022</td>\n",
              "      <td>20442</td>\n",
              "      <td>3</td>\n",
              "      <td>1</td>\n",
              "      <td>0</td>\n",
              "      <td>0</td>\n",
              "      <td>1</td>\n",
              "    </tr>\n",
              "    <tr>\n",
              "      <th>2</th>\n",
              "      <td>2</td>\n",
              "      <td>29</td>\n",
              "      <td>1</td>\n",
              "      <td>3</td>\n",
              "      <td>2</td>\n",
              "      <td>0</td>\n",
              "      <td>0</td>\n",
              "      <td>348676</td>\n",
              "      <td>24404</td>\n",
              "      <td>3</td>\n",
              "      <td>1</td>\n",
              "      <td>0</td>\n",
              "      <td>1</td>\n",
              "      <td>1</td>\n",
              "    </tr>\n",
              "    <tr>\n",
              "      <th>3</th>\n",
              "      <td>3</td>\n",
              "      <td>18</td>\n",
              "      <td>1</td>\n",
              "      <td>0</td>\n",
              "      <td>3</td>\n",
              "      <td>0</td>\n",
              "      <td>4</td>\n",
              "      <td>165041</td>\n",
              "      <td>2533</td>\n",
              "      <td>3</td>\n",
              "      <td>1</td>\n",
              "      <td>0</td>\n",
              "      <td>0</td>\n",
              "      <td>1</td>\n",
              "    </tr>\n",
              "    <tr>\n",
              "      <th>4</th>\n",
              "      <td>4</td>\n",
              "      <td>26</td>\n",
              "      <td>1</td>\n",
              "      <td>2</td>\n",
              "      <td>2</td>\n",
              "      <td>0</td>\n",
              "      <td>2</td>\n",
              "      <td>348745</td>\n",
              "      <td>19321</td>\n",
              "      <td>3</td>\n",
              "      <td>1</td>\n",
              "      <td>0</td>\n",
              "      <td>1</td>\n",
              "      <td>1</td>\n",
              "    </tr>\n",
              "  </tbody>\n",
              "</table>\n",
              "</div>"
            ],
            "text/plain": [
              "   index  age  gender  ...  marital_status  no_card  default\n",
              "0      0   19       1  ...               0        0        1\n",
              "1      1   18       1  ...               0        0        1\n",
              "2      2   29       1  ...               0        1        1\n",
              "3      3   18       1  ...               0        0        1\n",
              "4      4   26       1  ...               0        1        1\n",
              "\n",
              "[5 rows x 14 columns]"
            ]
          },
          "metadata": {
            "tags": []
          },
          "execution_count": 22
        }
      ]
    },
    {
      "cell_type": "code",
      "metadata": {
        "id": "rXZzS7C0k9Sb",
        "outputId": "ba9815aa-288a-40d3-8063-b1967d798244",
        "colab": {
          "base_uri": "https://localhost:8080/",
          "height": 215
        }
      },
      "source": [
        "credit_df_no_outlier=credit_df_no_outlier.drop(columns=[\"index\"],axis=1)\r\n",
        "credit_df_no_outlier.head()"
      ],
      "execution_count": 23,
      "outputs": [
        {
          "output_type": "execute_result",
          "data": {
            "text/html": [
              "<div>\n",
              "<style scoped>\n",
              "    .dataframe tbody tr th:only-of-type {\n",
              "        vertical-align: middle;\n",
              "    }\n",
              "\n",
              "    .dataframe tbody tr th {\n",
              "        vertical-align: top;\n",
              "    }\n",
              "\n",
              "    .dataframe thead th {\n",
              "        text-align: right;\n",
              "    }\n",
              "</style>\n",
              "<table border=\"1\" class=\"dataframe\">\n",
              "  <thead>\n",
              "    <tr style=\"text-align: right;\">\n",
              "      <th></th>\n",
              "      <th>age</th>\n",
              "      <th>gender</th>\n",
              "      <th>education</th>\n",
              "      <th>occupation</th>\n",
              "      <th>organization_type</th>\n",
              "      <th>seniority</th>\n",
              "      <th>annual_income</th>\n",
              "      <th>disposable_income</th>\n",
              "      <th>house_type</th>\n",
              "      <th>vehicle_type</th>\n",
              "      <th>marital_status</th>\n",
              "      <th>no_card</th>\n",
              "      <th>default</th>\n",
              "    </tr>\n",
              "  </thead>\n",
              "  <tbody>\n",
              "    <tr>\n",
              "      <th>0</th>\n",
              "      <td>19</td>\n",
              "      <td>1</td>\n",
              "      <td>0</td>\n",
              "      <td>1</td>\n",
              "      <td>0</td>\n",
              "      <td>4</td>\n",
              "      <td>186319</td>\n",
              "      <td>21625</td>\n",
              "      <td>1</td>\n",
              "      <td>1</td>\n",
              "      <td>0</td>\n",
              "      <td>0</td>\n",
              "      <td>1</td>\n",
              "    </tr>\n",
              "    <tr>\n",
              "      <th>1</th>\n",
              "      <td>18</td>\n",
              "      <td>1</td>\n",
              "      <td>3</td>\n",
              "      <td>1</td>\n",
              "      <td>0</td>\n",
              "      <td>4</td>\n",
              "      <td>277022</td>\n",
              "      <td>20442</td>\n",
              "      <td>3</td>\n",
              "      <td>1</td>\n",
              "      <td>0</td>\n",
              "      <td>0</td>\n",
              "      <td>1</td>\n",
              "    </tr>\n",
              "    <tr>\n",
              "      <th>2</th>\n",
              "      <td>29</td>\n",
              "      <td>1</td>\n",
              "      <td>3</td>\n",
              "      <td>2</td>\n",
              "      <td>0</td>\n",
              "      <td>0</td>\n",
              "      <td>348676</td>\n",
              "      <td>24404</td>\n",
              "      <td>3</td>\n",
              "      <td>1</td>\n",
              "      <td>0</td>\n",
              "      <td>1</td>\n",
              "      <td>1</td>\n",
              "    </tr>\n",
              "    <tr>\n",
              "      <th>3</th>\n",
              "      <td>18</td>\n",
              "      <td>1</td>\n",
              "      <td>0</td>\n",
              "      <td>3</td>\n",
              "      <td>0</td>\n",
              "      <td>4</td>\n",
              "      <td>165041</td>\n",
              "      <td>2533</td>\n",
              "      <td>3</td>\n",
              "      <td>1</td>\n",
              "      <td>0</td>\n",
              "      <td>0</td>\n",
              "      <td>1</td>\n",
              "    </tr>\n",
              "    <tr>\n",
              "      <th>4</th>\n",
              "      <td>26</td>\n",
              "      <td>1</td>\n",
              "      <td>2</td>\n",
              "      <td>2</td>\n",
              "      <td>0</td>\n",
              "      <td>2</td>\n",
              "      <td>348745</td>\n",
              "      <td>19321</td>\n",
              "      <td>3</td>\n",
              "      <td>1</td>\n",
              "      <td>0</td>\n",
              "      <td>1</td>\n",
              "      <td>1</td>\n",
              "    </tr>\n",
              "  </tbody>\n",
              "</table>\n",
              "</div>"
            ],
            "text/plain": [
              "   age  gender  education  ...  marital_status  no_card  default\n",
              "0   19       1          0  ...               0        0        1\n",
              "1   18       1          3  ...               0        0        1\n",
              "2   29       1          3  ...               0        1        1\n",
              "3   18       1          0  ...               0        0        1\n",
              "4   26       1          2  ...               0        1        1\n",
              "\n",
              "[5 rows x 13 columns]"
            ]
          },
          "metadata": {
            "tags": []
          },
          "execution_count": 23
        }
      ]
    },
    {
      "cell_type": "markdown",
      "metadata": {
        "id": "62-SWXfblF01"
      },
      "source": [
        "### **6.2. Checking Data Correlation**"
      ]
    },
    {
      "cell_type": "code",
      "metadata": {
        "id": "LAMnJUt0k9T5",
        "outputId": "20666f6f-e942-49b1-e014-bdc811fcf83a",
        "colab": {
          "base_uri": "https://localhost:8080/",
          "height": 694
        }
      },
      "source": [
        "# correlation matrix of DataFrame\r\n",
        "plt.figure(figsize=(20,10))\r\n",
        "corn=credit_df_no_outlier.corr()\r\n",
        "sns.heatmap(corn,annot=True,cmap=\"BuPu\")"
      ],
      "execution_count": 24,
      "outputs": [
        {
          "output_type": "execute_result",
          "data": {
            "text/plain": [
              "<matplotlib.axes._subplots.AxesSubplot at 0x7f03aa73cf90>"
            ]
          },
          "metadata": {
            "tags": []
          },
          "execution_count": 24
        },
        {
          "output_type": "display_data",
          "data": {
            "image/png": "[encoded data removed]",
            "text/plain": [
              "<Figure size 1440x720 with 2 Axes>"
            ]
          },
          "metadata": {
            "tags": []
          }
        }
      ]
    },
    {
      "cell_type": "code",
      "metadata": {
        "id": "-tctRXD7k9Xw"
      },
      "source": [
        "X=credit_df_no_outlier.drop(columns=[\"default\"])\r\n",
        "y=credit_df_no_outlier[\"default\"]"
      ],
      "execution_count": 25,
      "outputs": []
    },
    {
      "cell_type": "code",
      "metadata": {
        "id": "2gF4zUpVlH83"
      },
      "source": [
        "# scale the DataFrame\r\n",
        "scalar=StandardScaler()\r\n",
        "X=scalar.fit_transform(X)\r\n",
        "X=pd.DataFrame(X)"
      ],
      "execution_count": 26,
      "outputs": []
    },
    {
      "cell_type": "markdown",
      "metadata": {
        "id": "GZTl-HLXlRXU"
      },
      "source": [
        "# **7. Split the dataset**"
      ]
    },
    {
      "cell_type": "markdown",
      "metadata": {
        "id": "gBvkn95alUel"
      },
      "source": [
        "Here before going for <code>hyper-parameter</code> tuning we'll apply <code>LazyClassifier</code> algorithm to find which algorithm will give how much of accuracy."
      ]
    },
    {
      "cell_type": "code",
      "metadata": {
        "id": "375EfjAJlH_W"
      },
      "source": [
        "x_train,x_test,y_train,y_test=train_test_split(X,y,test_size=0.25,random_state=21)"
      ],
      "execution_count": 27,
      "outputs": []
    },
    {
      "cell_type": "code",
      "metadata": {
        "id": "HaGuRDpjla2X",
        "outputId": "5b7bfce0-62bf-451c-9844-9858539a4dc3",
        "colab": {
          "base_uri": "https://localhost:8080/"
        }
      },
      "source": [
        "print(x_train.shape, y_train.shape)\r\n",
        "print(x_test.shape, y_test.shape)"
      ],
      "execution_count": 28,
      "outputs": [
        {
          "output_type": "stream",
          "text": [
            "(30985, 12) (30985,)\n",
            "(10329, 12) (10329,)\n"
          ],
          "name": "stdout"
        }
      ]
    },
    {
      "cell_type": "markdown",
      "metadata": {
        "id": "NCXJOL7ElfSH"
      },
      "source": [
        "# **8. Apply Lazypredict**"
      ]
    },
    {
      "cell_type": "markdown",
      "metadata": {
        "id": "GxhfumP-mJnb"
      },
      "source": [
        "As the dataset is too big when we apply <code>LazyClassifier</code> algorithm our execution may crash due to less RAM. Google colab provides 12gb RAM for free but to execute this algorithm with big dataset we need more RAM. So i'm using Google colab pro to execute this algorithm. Don't worry if you have not Colab pro. I'll provide the output in a csv file."
      ]
    },
    {
      "cell_type": "code",
      "metadata": {
        "id": "_bgfDKe9la4p",
        "outputId": "ac0cd5b2-7650-48be-acd6-53b8188afc1e",
        "colab": {
          "base_uri": "https://localhost:8080/"
        }
      },
      "source": [
        "!pip install lazypredict==0.2.7"
      ],
      "execution_count": 29,
      "outputs": [
        {
          "output_type": "stream",
          "text": [
            "Collecting lazypredict==0.2.7\n",
            "  Downloading https://files.pythonhosted.org/packages/5f/db/1566dca1050ea74e9474dca0f1e7bbffcb0c3e694cf92e7e6e7ef9fca3af/lazypredict-0.2.7-py2.py3-none-any.whl\n",
            "Requirement already satisfied: Click>=7.0 in /usr/local/lib/python3.7/dist-packages (from lazypredict==0.2.7) (7.1.2)\n",
            "Installing collected packages: lazypredict\n",
            "Successfully installed lazypredict-0.2.7\n"
          ],
          "name": "stdout"
        }
      ]
    },
    {
      "cell_type": "code",
      "metadata": {
        "id": "FKQH5U0rla9U",
        "outputId": "a96f9a75-76a0-4d19-830e-e49cbd1df45f",
        "colab": {
          "base_uri": "https://localhost:8080/"
        }
      },
      "source": [
        "!pip install lightgbm"
      ],
      "execution_count": 30,
      "outputs": [
        {
          "output_type": "stream",
          "text": [
            "Requirement already satisfied: lightgbm in /usr/local/lib/python3.7/dist-packages (2.2.3)\n",
            "Requirement already satisfied: numpy in /usr/local/lib/python3.7/dist-packages (from lightgbm) (1.19.5)\n",
            "Requirement already satisfied: scikit-learn in /usr/local/lib/python3.7/dist-packages (from lightgbm) (0.22.2.post1)\n",
            "Requirement already satisfied: scipy in /usr/local/lib/python3.7/dist-packages (from lightgbm) (1.4.1)\n",
            "Requirement already satisfied: joblib>=0.11 in /usr/local/lib/python3.7/dist-packages (from scikit-learn->lightgbm) (1.0.1)\n"
          ],
          "name": "stdout"
        }
      ]
    },
    {
      "cell_type": "code",
      "metadata": {
        "id": "U9TOIaQ6la_h",
        "outputId": "d768e50c-ea9c-4f0e-dc70-259fd8bf5a8d",
        "colab": {
          "base_uri": "https://localhost:8080/"
        }
      },
      "source": [
        "import lazypredict\r\n",
        "from lazypredict.Supervised import LazyClassifier"
      ],
      "execution_count": 31,
      "outputs": [
        {
          "output_type": "stream",
          "text": [
            "/usr/local/lib/python3.7/dist-packages/sklearn/utils/deprecation.py:144: FutureWarning: The sklearn.utils.testing module is  deprecated in version 0.22 and will be removed in version 0.24. The corresponding classes / functions should instead be imported from sklearn.utils. Anything that cannot be imported from sklearn.utils is now part of the private API.\n",
            "  warnings.warn(message, FutureWarning)\n"
          ],
          "name": "stderr"
        }
      ]
    },
    {
      "cell_type": "code",
      "metadata": {
        "id": "_cCQV0rrlbDO",
        "outputId": "a6824244-8925-45e2-f7a7-0684eefee88a",
        "colab": {
          "base_uri": "https://localhost:8080/"
        }
      },
      "source": [
        "clf= LazyClassifier(verbose=0,ignore_warnings=True,custom_metric=None)\r\n",
        "train,test=clf.fit(x_train,x_test,y_train,y_test)"
      ],
      "execution_count": 32,
      "outputs": [
        {
          "output_type": "stream",
          "text": [
            "100%|██████████| 30/30 [02:34<00:00,  5.15s/it]\n"
          ],
          "name": "stderr"
        }
      ]
    },
    {
      "cell_type": "code",
      "metadata": {
        "id": "PVHjunXglIDk",
        "outputId": "34ca2d5c-0107-4c01-9a89-1f8a182e4353",
        "colab": {
          "base_uri": "https://localhost:8080/",
          "height": 876
        }
      },
      "source": [
        "train"
      ],
      "execution_count": 33,
      "outputs": [
        {
          "output_type": "execute_result",
          "data": {
            "text/html": [
              "<div>\n",
              "<style scoped>\n",
              "    .dataframe tbody tr th:only-of-type {\n",
              "        vertical-align: middle;\n",
              "    }\n",
              "\n",
              "    .dataframe tbody tr th {\n",
              "        vertical-align: top;\n",
              "    }\n",
              "\n",
              "    .dataframe thead th {\n",
              "        text-align: right;\n",
              "    }\n",
              "</style>\n",
              "<table border=\"1\" class=\"dataframe\">\n",
              "  <thead>\n",
              "    <tr style=\"text-align: right;\">\n",
              "      <th></th>\n",
              "      <th>Accuracy</th>\n",
              "      <th>Balanced Accuracy</th>\n",
              "      <th>ROC AUC</th>\n",
              "      <th>F1 Score</th>\n",
              "      <th>Time Taken</th>\n",
              "    </tr>\n",
              "    <tr>\n",
              "      <th>Model</th>\n",
              "      <th></th>\n",
              "      <th></th>\n",
              "      <th></th>\n",
              "      <th></th>\n",
              "      <th></th>\n",
              "    </tr>\n",
              "  </thead>\n",
              "  <tbody>\n",
              "    <tr>\n",
              "      <th>NearestCentroid</th>\n",
              "      <td>0.62</td>\n",
              "      <td>0.64</td>\n",
              "      <td>0.64</td>\n",
              "      <td>0.67</td>\n",
              "      <td>0.06</td>\n",
              "    </tr>\n",
              "    <tr>\n",
              "      <th>LGBMClassifier</th>\n",
              "      <td>0.86</td>\n",
              "      <td>0.63</td>\n",
              "      <td>0.63</td>\n",
              "      <td>0.84</td>\n",
              "      <td>0.49</td>\n",
              "    </tr>\n",
              "    <tr>\n",
              "      <th>RandomForestClassifier</th>\n",
              "      <td>0.86</td>\n",
              "      <td>0.62</td>\n",
              "      <td>0.62</td>\n",
              "      <td>0.83</td>\n",
              "      <td>3.53</td>\n",
              "    </tr>\n",
              "    <tr>\n",
              "      <th>XGBClassifier</th>\n",
              "      <td>0.86</td>\n",
              "      <td>0.61</td>\n",
              "      <td>0.61</td>\n",
              "      <td>0.83</td>\n",
              "      <td>2.18</td>\n",
              "    </tr>\n",
              "    <tr>\n",
              "      <th>DecisionTreeClassifier</th>\n",
              "      <td>0.78</td>\n",
              "      <td>0.61</td>\n",
              "      <td>0.61</td>\n",
              "      <td>0.79</td>\n",
              "      <td>0.23</td>\n",
              "    </tr>\n",
              "    <tr>\n",
              "      <th>BaggingClassifier</th>\n",
              "      <td>0.85</td>\n",
              "      <td>0.60</td>\n",
              "      <td>0.60</td>\n",
              "      <td>0.82</td>\n",
              "      <td>1.12</td>\n",
              "    </tr>\n",
              "    <tr>\n",
              "      <th>AdaBoostClassifier</th>\n",
              "      <td>0.86</td>\n",
              "      <td>0.60</td>\n",
              "      <td>0.60</td>\n",
              "      <td>0.83</td>\n",
              "      <td>1.15</td>\n",
              "    </tr>\n",
              "    <tr>\n",
              "      <th>ExtraTreesClassifier</th>\n",
              "      <td>0.85</td>\n",
              "      <td>0.60</td>\n",
              "      <td>0.60</td>\n",
              "      <td>0.82</td>\n",
              "      <td>2.49</td>\n",
              "    </tr>\n",
              "    <tr>\n",
              "      <th>ExtraTreeClassifier</th>\n",
              "      <td>0.78</td>\n",
              "      <td>0.59</td>\n",
              "      <td>0.59</td>\n",
              "      <td>0.78</td>\n",
              "      <td>0.05</td>\n",
              "    </tr>\n",
              "    <tr>\n",
              "      <th>LabelSpreading</th>\n",
              "      <td>0.79</td>\n",
              "      <td>0.58</td>\n",
              "      <td>0.58</td>\n",
              "      <td>0.78</td>\n",
              "      <td>54.39</td>\n",
              "    </tr>\n",
              "    <tr>\n",
              "      <th>KNeighborsClassifier</th>\n",
              "      <td>0.84</td>\n",
              "      <td>0.58</td>\n",
              "      <td>0.58</td>\n",
              "      <td>0.81</td>\n",
              "      <td>2.17</td>\n",
              "    </tr>\n",
              "    <tr>\n",
              "      <th>LabelPropagation</th>\n",
              "      <td>0.79</td>\n",
              "      <td>0.58</td>\n",
              "      <td>0.58</td>\n",
              "      <td>0.78</td>\n",
              "      <td>39.02</td>\n",
              "    </tr>\n",
              "    <tr>\n",
              "      <th>PassiveAggressiveClassifier</th>\n",
              "      <td>0.76</td>\n",
              "      <td>0.56</td>\n",
              "      <td>0.56</td>\n",
              "      <td>0.76</td>\n",
              "      <td>0.07</td>\n",
              "    </tr>\n",
              "    <tr>\n",
              "      <th>QuadraticDiscriminantAnalysis</th>\n",
              "      <td>0.83</td>\n",
              "      <td>0.55</td>\n",
              "      <td>0.55</td>\n",
              "      <td>0.79</td>\n",
              "      <td>0.09</td>\n",
              "    </tr>\n",
              "    <tr>\n",
              "      <th>GaussianNB</th>\n",
              "      <td>0.85</td>\n",
              "      <td>0.53</td>\n",
              "      <td>0.53</td>\n",
              "      <td>0.79</td>\n",
              "      <td>0.08</td>\n",
              "    </tr>\n",
              "    <tr>\n",
              "      <th>LogisticRegression</th>\n",
              "      <td>0.85</td>\n",
              "      <td>0.52</td>\n",
              "      <td>0.52</td>\n",
              "      <td>0.78</td>\n",
              "      <td>0.10</td>\n",
              "    </tr>\n",
              "    <tr>\n",
              "      <th>CalibratedClassifierCV</th>\n",
              "      <td>0.85</td>\n",
              "      <td>0.52</td>\n",
              "      <td>0.52</td>\n",
              "      <td>0.78</td>\n",
              "      <td>7.69</td>\n",
              "    </tr>\n",
              "    <tr>\n",
              "      <th>SVC</th>\n",
              "      <td>0.85</td>\n",
              "      <td>0.52</td>\n",
              "      <td>0.52</td>\n",
              "      <td>0.78</td>\n",
              "      <td>37.02</td>\n",
              "    </tr>\n",
              "    <tr>\n",
              "      <th>Perceptron</th>\n",
              "      <td>0.80</td>\n",
              "      <td>0.52</td>\n",
              "      <td>0.52</td>\n",
              "      <td>0.77</td>\n",
              "      <td>0.10</td>\n",
              "    </tr>\n",
              "    <tr>\n",
              "      <th>DummyClassifier</th>\n",
              "      <td>0.74</td>\n",
              "      <td>0.50</td>\n",
              "      <td>0.50</td>\n",
              "      <td>0.74</td>\n",
              "      <td>0.03</td>\n",
              "    </tr>\n",
              "    <tr>\n",
              "      <th>LinearDiscriminantAnalysis</th>\n",
              "      <td>0.84</td>\n",
              "      <td>0.50</td>\n",
              "      <td>0.50</td>\n",
              "      <td>0.77</td>\n",
              "      <td>0.13</td>\n",
              "    </tr>\n",
              "    <tr>\n",
              "      <th>LinearSVC</th>\n",
              "      <td>0.84</td>\n",
              "      <td>0.50</td>\n",
              "      <td>0.50</td>\n",
              "      <td>0.77</td>\n",
              "      <td>1.84</td>\n",
              "    </tr>\n",
              "    <tr>\n",
              "      <th>CheckingClassifier</th>\n",
              "      <td>0.84</td>\n",
              "      <td>0.50</td>\n",
              "      <td>0.50</td>\n",
              "      <td>0.77</td>\n",
              "      <td>0.04</td>\n",
              "    </tr>\n",
              "    <tr>\n",
              "      <th>RidgeClassifier</th>\n",
              "      <td>0.84</td>\n",
              "      <td>0.50</td>\n",
              "      <td>0.50</td>\n",
              "      <td>0.77</td>\n",
              "      <td>0.06</td>\n",
              "    </tr>\n",
              "    <tr>\n",
              "      <th>RidgeClassifierCV</th>\n",
              "      <td>0.84</td>\n",
              "      <td>0.50</td>\n",
              "      <td>0.50</td>\n",
              "      <td>0.77</td>\n",
              "      <td>0.08</td>\n",
              "    </tr>\n",
              "    <tr>\n",
              "      <th>SGDClassifier</th>\n",
              "      <td>0.84</td>\n",
              "      <td>0.50</td>\n",
              "      <td>0.50</td>\n",
              "      <td>0.77</td>\n",
              "      <td>0.15</td>\n",
              "    </tr>\n",
              "    <tr>\n",
              "      <th>BernoulliNB</th>\n",
              "      <td>0.84</td>\n",
              "      <td>0.50</td>\n",
              "      <td>0.50</td>\n",
              "      <td>0.77</td>\n",
              "      <td>0.06</td>\n",
              "    </tr>\n",
              "  </tbody>\n",
              "</table>\n",
              "</div>"
            ],
            "text/plain": [
              "                               Accuracy  ...  Time Taken\n",
              "Model                                    ...            \n",
              "NearestCentroid                    0.62  ...        0.06\n",
              "LGBMClassifier                     0.86  ...        0.49\n",
              "RandomForestClassifier             0.86  ...        3.53\n",
              "XGBClassifier                      0.86  ...        2.18\n",
              "DecisionTreeClassifier             0.78  ...        0.23\n",
              "BaggingClassifier                  0.85  ...        1.12\n",
              "AdaBoostClassifier                 0.86  ...        1.15\n",
              "ExtraTreesClassifier               0.85  ...        2.49\n",
              "ExtraTreeClassifier                0.78  ...        0.05\n",
              "LabelSpreading                     0.79  ...       54.39\n",
              "KNeighborsClassifier               0.84  ...        2.17\n",
              "LabelPropagation                   0.79  ...       39.02\n",
              "PassiveAggressiveClassifier        0.76  ...        0.07\n",
              "QuadraticDiscriminantAnalysis      0.83  ...        0.09\n",
              "GaussianNB                         0.85  ...        0.08\n",
              "LogisticRegression                 0.85  ...        0.10\n",
              "CalibratedClassifierCV             0.85  ...        7.69\n",
              "SVC                                0.85  ...       37.02\n",
              "Perceptron                         0.80  ...        0.10\n",
              "DummyClassifier                    0.74  ...        0.03\n",
              "LinearDiscriminantAnalysis         0.84  ...        0.13\n",
              "LinearSVC                          0.84  ...        1.84\n",
              "CheckingClassifier                 0.84  ...        0.04\n",
              "RidgeClassifier                    0.84  ...        0.06\n",
              "RidgeClassifierCV                  0.84  ...        0.08\n",
              "SGDClassifier                      0.84  ...        0.15\n",
              "BernoulliNB                        0.84  ...        0.06\n",
              "\n",
              "[27 rows x 5 columns]"
            ]
          },
          "metadata": {
            "tags": []
          },
          "execution_count": 33
        }
      ]
    },
    {
      "cell_type": "markdown",
      "metadata": {
        "id": "4YeuULmtmVfn"
      },
      "source": [
        "NOTE: If the execution got failed or crashed then run the below cell to see the output of upper cells and make comment the above five cells"
      ]
    },
    {
      "cell_type": "code",
      "metadata": {
        "id": "p74Zh0NOlIF6"
      },
      "source": [
        "#  all_algorithm_df=pd.read_csv(\"lazypredict_algo.csv\")\r\n",
        "#  all_algorithm_df"
      ],
      "execution_count": 34,
      "outputs": []
    },
    {
      "cell_type": "markdown",
      "metadata": {
        "id": "HeNEq2tinKje"
      },
      "source": [
        "# **9. Hyperparameter Tuning**"
      ]
    },
    {
      "cell_type": "code",
      "metadata": {
        "id": "u_E9Gh_KlIKV"
      },
      "source": [
        "# this code is to show how much time required to train the model using different algorithms\r\n",
        "def timer(start_time= None):\r\n",
        "  if not start_time:\r\n",
        "    start_time=datetime.now()\r\n",
        "    return start_time\r\n",
        "  elif start_time:\r\n",
        "    thour,temp_sec=divmod((datetime.now()-start_time).total_seconds(),3600)\r\n",
        "    tmin,tsec=divmod(temp_sec,60)\r\n",
        "    print('\\n Time taken: %i hours %i minutes and %s seconds. '% (thour,tmin,round(tsec,2)))"
      ],
      "execution_count": 35,
      "outputs": []
    },
    {
      "cell_type": "code",
      "metadata": {
        "id": "5ZxHP8p3nNr1"
      },
      "source": [
        "# parameters of all classification algorithms respectively\r\n",
        "model_param={    \r\n",
        "    'random_forest':{\r\n",
        "        'model':RandomForestClassifier(),\r\n",
        "        'params':{\r\n",
        "            'n_estimators':[100,1000]\r\n",
        "        }\r\n",
        "    },\r\n",
        "    'LGBMClassifier':{\r\n",
        "        'model':lgb.LGBMClassifier(),\r\n",
        "        'params':{\r\n",
        "            'max_depth': [20, 30],\r\n",
        "            'max_bin':[255,300],                      \r\n",
        "            'n_estimators' : [10,100,1000]\r\n",
        "        }\r\n",
        "    },\r\n",
        "    'ExtraTreesClfr':{\r\n",
        "        'model':ExtraTreesClassifier(),\r\n",
        "        'params':{\r\n",
        "            \"max_depth\": [None],\r\n",
        "            \"max_features\": [8,12],\r\n",
        "            \"min_samples_split\": [10,20,30],\r\n",
        "            \"bootstrap\": [False, True],\r\n",
        "            \"n_estimators\" :[10,100,200],\r\n",
        "            \"criterion\": [\"gini\"]\r\n",
        "        }\r\n",
        "    }\r\n",
        "}     "
      ],
      "execution_count": 36,
      "outputs": []
    },
    {
      "cell_type": "markdown",
      "metadata": {
        "id": "ewpeGc-GqraM"
      },
      "source": [
        "This below cell may take a little more time to execute."
      ]
    },
    {
      "cell_type": "code",
      "metadata": {
        "id": "ZtNpN54xnNug",
        "outputId": "7497e5aa-8c3f-4cee-fdbd-786296ae883a",
        "colab": {
          "base_uri": "https://localhost:8080/"
        }
      },
      "source": [
        "start_time=timer(None)\r\n",
        "scores=[]\r\n",
        "for model_name,mp in model_param.items():\r\n",
        "    # Apply GridSearchCV\r\n",
        "    rs=GridSearchCV(mp['model'],mp['params'],cv=5,return_train_score=False)\r\n",
        "    rs.fit(X,y)\r\n",
        "    print( model_name,\" : successfully execute\")\r\n",
        "    scores.append({\r\n",
        "        'model':model_name, # it'll retrive the best model name\r\n",
        "        \"best_score\":rs.best_score_, # it'll retrive the best accuracy score\r\n",
        "        'best_params':rs.best_params_ # it'll retrive the best parameter\r\n",
        "    })\r\n",
        "timer(start_time)"
      ],
      "execution_count": 37,
      "outputs": [
        {
          "output_type": "stream",
          "text": [
            "random_forest  : successfully execute\n",
            "LGBMClassifier  : successfully execute\n",
            "ExtraTreesClfr  : successfully execute\n",
            "\n",
            " Time taken: 0 hours 15 minutes and 44.74 seconds. \n"
          ],
          "name": "stdout"
        }
      ]
    },
    {
      "cell_type": "code",
      "metadata": {
        "id": "n5t-oPqlnNyd",
        "outputId": "12a25993-3093-4310-edb4-b777358f094a",
        "colab": {
          "base_uri": "https://localhost:8080/",
          "height": 136
        }
      },
      "source": [
        "df=pd.DataFrame(scores,columns=['model','best_score','best_params'])\r\n",
        "df"
      ],
      "execution_count": 38,
      "outputs": [
        {
          "output_type": "execute_result",
          "data": {
            "text/html": [
              "<div>\n",
              "<style scoped>\n",
              "    .dataframe tbody tr th:only-of-type {\n",
              "        vertical-align: middle;\n",
              "    }\n",
              "\n",
              "    .dataframe tbody tr th {\n",
              "        vertical-align: top;\n",
              "    }\n",
              "\n",
              "    .dataframe thead th {\n",
              "        text-align: right;\n",
              "    }\n",
              "</style>\n",
              "<table border=\"1\" class=\"dataframe\">\n",
              "  <thead>\n",
              "    <tr style=\"text-align: right;\">\n",
              "      <th></th>\n",
              "      <th>model</th>\n",
              "      <th>best_score</th>\n",
              "      <th>best_params</th>\n",
              "    </tr>\n",
              "  </thead>\n",
              "  <tbody>\n",
              "    <tr>\n",
              "      <th>0</th>\n",
              "      <td>random_forest</td>\n",
              "      <td>0.86</td>\n",
              "      <td>{'n_estimators': 1000}</td>\n",
              "    </tr>\n",
              "    <tr>\n",
              "      <th>1</th>\n",
              "      <td>LGBMClassifier</td>\n",
              "      <td>0.86</td>\n",
              "      <td>{'max_bin': 300, 'max_depth': 20, 'n_estimator...</td>\n",
              "    </tr>\n",
              "    <tr>\n",
              "      <th>2</th>\n",
              "      <td>ExtraTreesClfr</td>\n",
              "      <td>0.86</td>\n",
              "      <td>{'bootstrap': True, 'criterion': 'gini', 'max_...</td>\n",
              "    </tr>\n",
              "  </tbody>\n",
              "</table>\n",
              "</div>"
            ],
            "text/plain": [
              "            model  ...                                        best_params\n",
              "0   random_forest  ...                             {'n_estimators': 1000}\n",
              "1  LGBMClassifier  ...  {'max_bin': 300, 'max_depth': 20, 'n_estimator...\n",
              "2  ExtraTreesClfr  ...  {'bootstrap': True, 'criterion': 'gini', 'max_...\n",
              "\n",
              "[3 rows x 3 columns]"
            ]
          },
          "metadata": {
            "tags": []
          },
          "execution_count": 38
        }
      ]
    },
    {
      "cell_type": "code",
      "metadata": {
        "id": "QOCAopTDnN6M",
        "outputId": "0110aae7-4593-47e6-c5b5-4c049b010e1d",
        "colab": {
          "base_uri": "https://localhost:8080/"
        }
      },
      "source": [
        "# Find the parameter of LGBMClassifier\r\n",
        "# rs.best_params_\r\n",
        "# rs.best_estimator_\r\n",
        "scores[1]"
      ],
      "execution_count": 39,
      "outputs": [
        {
          "output_type": "execute_result",
          "data": {
            "text/plain": [
              "{'best_params': {'max_bin': 300, 'max_depth': 20, 'n_estimators': 100},\n",
              " 'best_score': 0.86433061634238,\n",
              " 'model': 'LGBMClassifier'}"
            ]
          },
          "metadata": {
            "tags": []
          },
          "execution_count": 39
        }
      ]
    },
    {
      "cell_type": "markdown",
      "metadata": {
        "id": "Yr801SNEu8Ld"
      },
      "source": [
        "Now we are going to split the dataset into two parts where 90% of data will be use in KFold Cross validation and rest 10% data will be use for sample prediction "
      ]
    },
    {
      "cell_type": "code",
      "metadata": {
        "id": "yh-tFqyolINM"
      },
      "source": [
        "# Split the dataset\r\n",
        "x_train,x_test,y_train,y_test=train_test_split(X,y,test_size=0.10,random_state=21)"
      ],
      "execution_count": 40,
      "outputs": []
    },
    {
      "cell_type": "code",
      "metadata": {
        "id": "7KdOsogllIeD",
        "outputId": "403fdf08-6246-4304-e81a-b528631b8428",
        "colab": {
          "base_uri": "https://localhost:8080/",
          "height": 195
        }
      },
      "source": [
        "# reset the index of x_train\r\n",
        "x_train.reset_index(inplace=True)\r\n",
        "# drop \"index\" column\r\n",
        "x_train.drop(columns=['index'],axis=1,inplace=True)\r\n",
        "x_train.tail()"
      ],
      "execution_count": 41,
      "outputs": [
        {
          "output_type": "execute_result",
          "data": {
            "text/html": [
              "<div>\n",
              "<style scoped>\n",
              "    .dataframe tbody tr th:only-of-type {\n",
              "        vertical-align: middle;\n",
              "    }\n",
              "\n",
              "    .dataframe tbody tr th {\n",
              "        vertical-align: top;\n",
              "    }\n",
              "\n",
              "    .dataframe thead th {\n",
              "        text-align: right;\n",
              "    }\n",
              "</style>\n",
              "<table border=\"1\" class=\"dataframe\">\n",
              "  <thead>\n",
              "    <tr style=\"text-align: right;\">\n",
              "      <th></th>\n",
              "      <th>0</th>\n",
              "      <th>1</th>\n",
              "      <th>2</th>\n",
              "      <th>3</th>\n",
              "      <th>4</th>\n",
              "      <th>5</th>\n",
              "      <th>6</th>\n",
              "      <th>7</th>\n",
              "      <th>8</th>\n",
              "      <th>9</th>\n",
              "      <th>10</th>\n",
              "      <th>11</th>\n",
              "    </tr>\n",
              "  </thead>\n",
              "  <tbody>\n",
              "    <tr>\n",
              "      <th>37177</th>\n",
              "      <td>1.41</td>\n",
              "      <td>0.63</td>\n",
              "      <td>0.85</td>\n",
              "      <td>0.57</td>\n",
              "      <td>-0.61</td>\n",
              "      <td>-0.29</td>\n",
              "      <td>0.21</td>\n",
              "      <td>0.28</td>\n",
              "      <td>0.71</td>\n",
              "      <td>-0.48</td>\n",
              "      <td>-0.82</td>\n",
              "      <td>-0.76</td>\n",
              "    </tr>\n",
              "    <tr>\n",
              "      <th>37178</th>\n",
              "      <td>0.28</td>\n",
              "      <td>-1.59</td>\n",
              "      <td>-0.04</td>\n",
              "      <td>0.57</td>\n",
              "      <td>-0.61</td>\n",
              "      <td>-0.29</td>\n",
              "      <td>1.11</td>\n",
              "      <td>0.63</td>\n",
              "      <td>-2.38</td>\n",
              "      <td>-0.48</td>\n",
              "      <td>1.28</td>\n",
              "      <td>0.73</td>\n",
              "    </tr>\n",
              "    <tr>\n",
              "      <th>37179</th>\n",
              "      <td>1.75</td>\n",
              "      <td>0.63</td>\n",
              "      <td>0.85</td>\n",
              "      <td>-1.71</td>\n",
              "      <td>-0.61</td>\n",
              "      <td>1.08</td>\n",
              "      <td>0.08</td>\n",
              "      <td>0.58</td>\n",
              "      <td>0.71</td>\n",
              "      <td>-0.48</td>\n",
              "      <td>-0.82</td>\n",
              "      <td>-0.76</td>\n",
              "    </tr>\n",
              "    <tr>\n",
              "      <th>37180</th>\n",
              "      <td>1.75</td>\n",
              "      <td>0.63</td>\n",
              "      <td>-0.94</td>\n",
              "      <td>0.57</td>\n",
              "      <td>0.22</td>\n",
              "      <td>-0.29</td>\n",
              "      <td>-0.82</td>\n",
              "      <td>0.35</td>\n",
              "      <td>-2.38</td>\n",
              "      <td>-2.38</td>\n",
              "      <td>-0.82</td>\n",
              "      <td>-0.76</td>\n",
              "    </tr>\n",
              "    <tr>\n",
              "      <th>37181</th>\n",
              "      <td>-0.06</td>\n",
              "      <td>0.63</td>\n",
              "      <td>-0.94</td>\n",
              "      <td>-0.57</td>\n",
              "      <td>-0.61</td>\n",
              "      <td>1.08</td>\n",
              "      <td>-1.50</td>\n",
              "      <td>0.27</td>\n",
              "      <td>0.71</td>\n",
              "      <td>1.41</td>\n",
              "      <td>1.28</td>\n",
              "      <td>-0.76</td>\n",
              "    </tr>\n",
              "  </tbody>\n",
              "</table>\n",
              "</div>"
            ],
            "text/plain": [
              "         0     1     2     3     4     5     6    7     8     9     10    11\n",
              "37177  1.41  0.63  0.85  0.57 -0.61 -0.29  0.21 0.28  0.71 -0.48 -0.82 -0.76\n",
              "37178  0.28 -1.59 -0.04  0.57 -0.61 -0.29  1.11 0.63 -2.38 -0.48  1.28  0.73\n",
              "37179  1.75  0.63  0.85 -1.71 -0.61  1.08  0.08 0.58  0.71 -0.48 -0.82 -0.76\n",
              "37180  1.75  0.63 -0.94  0.57  0.22 -0.29 -0.82 0.35 -2.38 -2.38 -0.82 -0.76\n",
              "37181 -0.06  0.63 -0.94 -0.57 -0.61  1.08 -1.50 0.27  0.71  1.41  1.28 -0.76"
            ]
          },
          "metadata": {
            "tags": []
          },
          "execution_count": 41
        }
      ]
    },
    {
      "cell_type": "code",
      "metadata": {
        "id": "RCBSYMvBu589",
        "outputId": "806de899-11bf-40f4-c40e-ce3519d9bea5",
        "colab": {
          "base_uri": "https://localhost:8080/",
          "height": 195
        }
      },
      "source": [
        "y_train=pd.DataFrame(y_train)\r\n",
        "y_train.reset_index(inplace=True)\r\n",
        "y_train.drop(columns=['index'],axis=1,inplace=True)\r\n",
        "y_train.tail()"
      ],
      "execution_count": 42,
      "outputs": [
        {
          "output_type": "execute_result",
          "data": {
            "text/html": [
              "<div>\n",
              "<style scoped>\n",
              "    .dataframe tbody tr th:only-of-type {\n",
              "        vertical-align: middle;\n",
              "    }\n",
              "\n",
              "    .dataframe tbody tr th {\n",
              "        vertical-align: top;\n",
              "    }\n",
              "\n",
              "    .dataframe thead th {\n",
              "        text-align: right;\n",
              "    }\n",
              "</style>\n",
              "<table border=\"1\" class=\"dataframe\">\n",
              "  <thead>\n",
              "    <tr style=\"text-align: right;\">\n",
              "      <th></th>\n",
              "      <th>default</th>\n",
              "    </tr>\n",
              "  </thead>\n",
              "  <tbody>\n",
              "    <tr>\n",
              "      <th>37177</th>\n",
              "      <td>0</td>\n",
              "    </tr>\n",
              "    <tr>\n",
              "      <th>37178</th>\n",
              "      <td>0</td>\n",
              "    </tr>\n",
              "    <tr>\n",
              "      <th>37179</th>\n",
              "      <td>0</td>\n",
              "    </tr>\n",
              "    <tr>\n",
              "      <th>37180</th>\n",
              "      <td>0</td>\n",
              "    </tr>\n",
              "    <tr>\n",
              "      <th>37181</th>\n",
              "      <td>0</td>\n",
              "    </tr>\n",
              "  </tbody>\n",
              "</table>\n",
              "</div>"
            ],
            "text/plain": [
              "       default\n",
              "37177        0\n",
              "37178        0\n",
              "37179        0\n",
              "37180        0\n",
              "37181        0"
            ]
          },
          "metadata": {
            "tags": []
          },
          "execution_count": 42
        }
      ]
    },
    {
      "cell_type": "code",
      "metadata": {
        "id": "JmSOBxlwu5_p"
      },
      "source": [
        "# convert \"y_train\" dataframe into an array \r\n",
        "y_train=np.array(y_train)"
      ],
      "execution_count": 43,
      "outputs": []
    },
    {
      "cell_type": "markdown",
      "metadata": {
        "id": "41rx4k39vQoM"
      },
      "source": [
        "# **10. Model Building**"
      ]
    },
    {
      "cell_type": "code",
      "metadata": {
        "id": "55KulOAYu6Dk",
        "outputId": "8e9ff17a-a972-41e3-fd9f-3f16ad9b1bfb",
        "colab": {
          "base_uri": "https://localhost:8080/"
        }
      },
      "source": [
        "# Hide warning\r\n",
        "warnings.filterwarnings('ignore')\r\n",
        "\r\n",
        "# Apply KFold\r\n",
        "skf=KFold(n_splits=5)\r\n",
        "LGBMClf= lgb.LGBMClassifier(max_bin= 300, max_depth = 20, n_estimators = 100)\r\n",
        "\r\n",
        "for train_index,test_index in skf.split(x_train,y_train):\r\n",
        "    x_train_kf,x_test_kf,y_train_kf,y_test_kf = x_train.loc[train_index],x_train.loc[test_index],y_train[train_index],y_train[test_index]\r\n",
        "    LGBMClf.fit(x_train_kf, y_train_kf)\r\n",
        "\r\n",
        "# Find Accuracy\r\n",
        "print(\"============================================================\")\r\n",
        "print(\"Training accuracy of data is :\", LGBMClf.score(x_train_kf, y_train_kf))\r\n",
        "print(\"============================================================\")\r\n",
        "print(\"Testng accuracy of data is :\", LGBMClf.score(x_test_kf, y_test_kf))\r\n",
        "print(\"============================================================\")"
      ],
      "execution_count": 44,
      "outputs": [
        {
          "output_type": "stream",
          "text": [
            "============================================================\n",
            "Training accuracy of data is : 0.8817319975795065\n",
            "============================================================\n",
            "Testng accuracy of data is : 0.865115653577192\n",
            "============================================================\n"
          ],
          "name": "stdout"
        }
      ]
    },
    {
      "cell_type": "markdown",
      "metadata": {
        "id": "h27oxmCnvWiQ"
      },
      "source": [
        "# **11. Save the Model**"
      ]
    },
    {
      "cell_type": "code",
      "metadata": {
        "id": "7z9DzyoNu6Fg",
        "outputId": "d2fd3a37-22d1-46e1-b3c9-a93426892b66",
        "colab": {
          "base_uri": "https://localhost:8080/"
        }
      },
      "source": [
        "#Saving Scikitlearn models\r\n",
        "import joblib\r\n",
        "joblib.dump(LGBMClf, \"credit_risk_analyzer.pkl\")"
      ],
      "execution_count": 45,
      "outputs": [
        {
          "output_type": "execute_result",
          "data": {
            "text/plain": [
              "['credit_risk_analyzer.pkl']"
            ]
          },
          "metadata": {
            "tags": []
          },
          "execution_count": 45
        }
      ]
    },
    {
      "cell_type": "code",
      "metadata": {
        "id": "89Qu115uu6J1",
        "outputId": "a45c8829-0e86-43b8-d9a5-4aeeeac56e30",
        "colab": {
          "base_uri": "https://localhost:8080/"
        }
      },
      "source": [
        "# load the model\r\n",
        "model=joblib.load(\"credit_risk_analyzer.pkl\")\r\n",
        "model"
      ],
      "execution_count": 46,
      "outputs": [
        {
          "output_type": "execute_result",
          "data": {
            "text/plain": [
              "LGBMClassifier(boosting_type='gbdt', class_weight=None, colsample_bytree=1.0,\n",
              "               importance_type='split', learning_rate=0.1, max_bin=300,\n",
              "               max_depth=20, min_child_samples=20, min_child_weight=0.001,\n",
              "               min_split_gain=0.0, n_estimators=100, n_jobs=-1, num_leaves=31,\n",
              "               objective=None, random_state=None, reg_alpha=0.0, reg_lambda=0.0,\n",
              "               silent=True, subsample=1.0, subsample_for_bin=200000,\n",
              "               subsample_freq=0)"
            ]
          },
          "metadata": {
            "tags": []
          },
          "execution_count": 46
        }
      ]
    },
    {
      "cell_type": "markdown",
      "metadata": {
        "id": "fc61p-eCvbdw"
      },
      "source": [
        "# **12. Find Prediction**"
      ]
    },
    {
      "cell_type": "code",
      "metadata": {
        "id": "bt6nq3ayu6NK"
      },
      "source": [
        "y_pred=model.predict(x_test)"
      ],
      "execution_count": 47,
      "outputs": []
    }
  ]
}